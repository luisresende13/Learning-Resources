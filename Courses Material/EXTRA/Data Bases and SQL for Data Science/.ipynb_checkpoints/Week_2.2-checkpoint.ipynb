{
 "cells": [
  {
   "cell_type": "markdown",
   "metadata": {},
   "source": [
    "## Date and Time Built-in Functions"
   ]
  },
  {
   "cell_type": "markdown",
   "metadata": {},
   "source": [
    "#### List of functions:"
   ]
  },
  {
   "cell_type": "markdown",
   "metadata": {},
   "source": [
    "YEAR(), MONTH(), WEEK(), DAY(), DAYOFYEAR(), DAYOFMONTH(), DAYOFWEEK(), HOUR(), MINUTE(), SECOND()"
   ]
  },
  {
   "cell_type": "code",
   "execution_count": 1,
   "metadata": {},
   "outputs": [],
   "source": [
    "%load_ext sql\n",
    "%sql ibm_db_sa://mpc82210:7rf3d7vvlfj%5Egf7d@dashdb-txn-sbox-yp-dal09-10.services.dal.bluemix.net:50000/BLUDB"
   ]
  },
  {
   "cell_type": "code",
   "execution_count": 2,
   "metadata": {},
   "outputs": [
    {
     "name": "stdout",
     "output_type": "stream",
     "text": [
      " * ibm_db_sa://mpc82210:***@dashdb-txn-sbox-yp-dal09-10.services.dal.bluemix.net:50000/BLUDB\n",
      "Done.\n"
     ]
    },
    {
     "data": {
      "text/html": [
       "<table>\n",
       "    <tr>\n",
       "        <th>id</th>\n",
       "        <th>animal</th>\n",
       "        <th>quantity</th>\n",
       "        <th>cost</th>\n",
       "        <th>rescuedate</th>\n",
       "    </tr>\n",
       "    <tr>\n",
       "        <td>1</td>\n",
       "        <td>Cat</td>\n",
       "        <td>9</td>\n",
       "        <td>450.09</td>\n",
       "        <td>2018-05-29</td>\n",
       "    </tr>\n",
       "    <tr>\n",
       "        <td>2</td>\n",
       "        <td>Dog</td>\n",
       "        <td>3</td>\n",
       "        <td>666.66</td>\n",
       "        <td>2018-06-01</td>\n",
       "    </tr>\n",
       "    <tr>\n",
       "        <td>3</td>\n",
       "        <td>Dog</td>\n",
       "        <td>1</td>\n",
       "        <td>100.00</td>\n",
       "        <td>2018-06-04</td>\n",
       "    </tr>\n",
       "    <tr>\n",
       "        <td>4</td>\n",
       "        <td>Parrot</td>\n",
       "        <td>2</td>\n",
       "        <td>50.00</td>\n",
       "        <td>2018-06-04</td>\n",
       "    </tr>\n",
       "    <tr>\n",
       "        <td>5</td>\n",
       "        <td>Dog</td>\n",
       "        <td>1</td>\n",
       "        <td>75.75</td>\n",
       "        <td>2018-06-10</td>\n",
       "    </tr>\n",
       "    <tr>\n",
       "        <td>6</td>\n",
       "        <td>Hamster</td>\n",
       "        <td>6</td>\n",
       "        <td>60.60</td>\n",
       "        <td>2018-06-11</td>\n",
       "    </tr>\n",
       "    <tr>\n",
       "        <td>7</td>\n",
       "        <td>Cat</td>\n",
       "        <td>1</td>\n",
       "        <td>44.44</td>\n",
       "        <td>2018-06-11</td>\n",
       "    </tr>\n",
       "    <tr>\n",
       "        <td>8</td>\n",
       "        <td>Goldfish</td>\n",
       "        <td>24</td>\n",
       "        <td>48.48</td>\n",
       "        <td>2018-06-14</td>\n",
       "    </tr>\n",
       "    <tr>\n",
       "        <td>9</td>\n",
       "        <td>Dog</td>\n",
       "        <td>2</td>\n",
       "        <td>222.22</td>\n",
       "        <td>2018-06-15</td>\n",
       "    </tr>\n",
       "</table>"
      ],
      "text/plain": [
       "[(1, 'Cat', 9, Decimal('450.09'), datetime.date(2018, 5, 29)),\n",
       " (2, 'Dog', 3, Decimal('666.66'), datetime.date(2018, 6, 1)),\n",
       " (3, 'Dog', 1, Decimal('100.00'), datetime.date(2018, 6, 4)),\n",
       " (4, 'Parrot', 2, Decimal('50.00'), datetime.date(2018, 6, 4)),\n",
       " (5, 'Dog', 1, Decimal('75.75'), datetime.date(2018, 6, 10)),\n",
       " (6, 'Hamster', 6, Decimal('60.60'), datetime.date(2018, 6, 11)),\n",
       " (7, 'Cat', 1, Decimal('44.44'), datetime.date(2018, 6, 11)),\n",
       " (8, 'Goldfish', 24, Decimal('48.48'), datetime.date(2018, 6, 14)),\n",
       " (9, 'Dog', 2, Decimal('222.22'), datetime.date(2018, 6, 15))]"
      ]
     },
     "execution_count": 2,
     "metadata": {},
     "output_type": "execute_result"
    }
   ],
   "source": [
    "%sql SELECT * FROM PETRESCUE"
   ]
  },
  {
   "cell_type": "markdown",
   "metadata": {},
   "source": [
    "#### DAY()"
   ]
  },
  {
   "cell_type": "code",
   "execution_count": 5,
   "metadata": {},
   "outputs": [
    {
     "name": "stdout",
     "output_type": "stream",
     "text": [
      " * ibm_db_sa://mpc82210:***@dashdb-txn-sbox-yp-dal09-10.services.dal.bluemix.net:50000/BLUDB\n",
      "Done.\n"
     ]
    },
    {
     "data": {
      "text/html": [
       "<table>\n",
       "    <tr>\n",
       "        <th>animal</th>\n",
       "        <th>day_of_rescue</th>\n",
       "    </tr>\n",
       "    <tr>\n",
       "        <td>Cat</td>\n",
       "        <td>29</td>\n",
       "    </tr>\n",
       "    <tr>\n",
       "        <td>Cat</td>\n",
       "        <td>11</td>\n",
       "    </tr>\n",
       "</table>"
      ],
      "text/plain": [
       "[('Cat', 29), ('Cat', 11)]"
      ]
     },
     "execution_count": 5,
     "metadata": {},
     "output_type": "execute_result"
    }
   ],
   "source": [
    "%sql SELECT ANIMAL, DAY(RESCUEDATE) AS DAY_OF_RESCUE FROM PETRESCUE WHERE ANIMAL='Cat'"
   ]
  },
  {
   "cell_type": "code",
   "execution_count": 6,
   "metadata": {},
   "outputs": [
    {
     "name": "stdout",
     "output_type": "stream",
     "text": [
      " * ibm_db_sa://mpc82210:***@dashdb-txn-sbox-yp-dal09-10.services.dal.bluemix.net:50000/BLUDB\n",
      "Done.\n"
     ]
    },
    {
     "data": {
      "text/html": [
       "<table>\n",
       "    <tr>\n",
       "        <th>id</th>\n",
       "        <th>animal</th>\n",
       "        <th>quantity</th>\n",
       "        <th>cost</th>\n",
       "        <th>rescuedate</th>\n",
       "    </tr>\n",
       "    <tr>\n",
       "        <td>1</td>\n",
       "        <td>Cat</td>\n",
       "        <td>9</td>\n",
       "        <td>450.09</td>\n",
       "        <td>2018-05-29</td>\n",
       "    </tr>\n",
       "    <tr>\n",
       "        <td>8</td>\n",
       "        <td>Goldfish</td>\n",
       "        <td>24</td>\n",
       "        <td>48.48</td>\n",
       "        <td>2018-06-14</td>\n",
       "    </tr>\n",
       "    <tr>\n",
       "        <td>9</td>\n",
       "        <td>Dog</td>\n",
       "        <td>2</td>\n",
       "        <td>222.22</td>\n",
       "        <td>2018-06-15</td>\n",
       "    </tr>\n",
       "</table>"
      ],
      "text/plain": [
       "[(1, 'Cat', 9, Decimal('450.09'), datetime.date(2018, 5, 29)),\n",
       " (8, 'Goldfish', 24, Decimal('48.48'), datetime.date(2018, 6, 14)),\n",
       " (9, 'Dog', 2, Decimal('222.22'), datetime.date(2018, 6, 15))]"
      ]
     },
     "execution_count": 6,
     "metadata": {},
     "output_type": "execute_result"
    }
   ],
   "source": [
    "%sql SELECT * FROM PETRESCUE WHERE DAY(RESCUEDATE) BETWEEN 14 AND 29"
   ]
  },
  {
   "cell_type": "code",
   "execution_count": 9,
   "metadata": {},
   "outputs": [
    {
     "name": "stdout",
     "output_type": "stream",
     "text": [
      " * ibm_db_sa://mpc82210:***@dashdb-txn-sbox-yp-dal09-10.services.dal.bluemix.net:50000/BLUDB\n",
      "Done.\n"
     ]
    },
    {
     "data": {
      "text/html": [
       "<table>\n",
       "    <tr>\n",
       "        <th>id</th>\n",
       "        <th>animal</th>\n",
       "        <th>quantity</th>\n",
       "        <th>cost</th>\n",
       "        <th>rescuedate</th>\n",
       "    </tr>\n",
       "    <tr>\n",
       "        <td>5</td>\n",
       "        <td>Dog</td>\n",
       "        <td>1</td>\n",
       "        <td>75.75</td>\n",
       "        <td>2018-06-10</td>\n",
       "    </tr>\n",
       "    <tr>\n",
       "        <td>6</td>\n",
       "        <td>Hamster</td>\n",
       "        <td>6</td>\n",
       "        <td>60.60</td>\n",
       "        <td>2018-06-11</td>\n",
       "    </tr>\n",
       "    <tr>\n",
       "        <td>7</td>\n",
       "        <td>Cat</td>\n",
       "        <td>1</td>\n",
       "        <td>44.44</td>\n",
       "        <td>2018-06-11</td>\n",
       "    </tr>\n",
       "    <tr>\n",
       "        <td>8</td>\n",
       "        <td>Goldfish</td>\n",
       "        <td>24</td>\n",
       "        <td>48.48</td>\n",
       "        <td>2018-06-14</td>\n",
       "    </tr>\n",
       "    <tr>\n",
       "        <td>9</td>\n",
       "        <td>Dog</td>\n",
       "        <td>2</td>\n",
       "        <td>222.22</td>\n",
       "        <td>2018-06-15</td>\n",
       "    </tr>\n",
       "</table>"
      ],
      "text/plain": [
       "[(5, 'Dog', 1, Decimal('75.75'), datetime.date(2018, 6, 10)),\n",
       " (6, 'Hamster', 6, Decimal('60.60'), datetime.date(2018, 6, 11)),\n",
       " (7, 'Cat', 1, Decimal('44.44'), datetime.date(2018, 6, 11)),\n",
       " (8, 'Goldfish', 24, Decimal('48.48'), datetime.date(2018, 6, 14)),\n",
       " (9, 'Dog', 2, Decimal('222.22'), datetime.date(2018, 6, 15))]"
      ]
     },
     "execution_count": 9,
     "metadata": {},
     "output_type": "execute_result"
    }
   ],
   "source": [
    "%sql SELECT * FROM PETRESCUE WHERE DAY(RESCUEDATE) BETWEEN 14-5 AND 14+5 "
   ]
  },
  {
   "cell_type": "markdown",
   "metadata": {},
   "source": [
    "#### OPERATION WITH DATE (n DAYS)"
   ]
  },
  {
   "cell_type": "code",
   "execution_count": 12,
   "metadata": {},
   "outputs": [
    {
     "name": "stdout",
     "output_type": "stream",
     "text": [
      " * ibm_db_sa://mpc82210:***@dashdb-txn-sbox-yp-dal09-10.services.dal.bluemix.net:50000/BLUDB\n",
      "Done.\n"
     ]
    },
    {
     "data": {
      "text/html": [
       "<table>\n",
       "    <tr>\n",
       "        <th>1</th>\n",
       "    </tr>\n",
       "    <tr>\n",
       "        <td>2018-06-01</td>\n",
       "    </tr>\n",
       "    <tr>\n",
       "        <td>2018-06-04</td>\n",
       "    </tr>\n",
       "    <tr>\n",
       "        <td>2018-06-07</td>\n",
       "    </tr>\n",
       "    <tr>\n",
       "        <td>2018-06-07</td>\n",
       "    </tr>\n",
       "    <tr>\n",
       "        <td>2018-06-13</td>\n",
       "    </tr>\n",
       "    <tr>\n",
       "        <td>2018-06-14</td>\n",
       "    </tr>\n",
       "    <tr>\n",
       "        <td>2018-06-14</td>\n",
       "    </tr>\n",
       "    <tr>\n",
       "        <td>2018-06-17</td>\n",
       "    </tr>\n",
       "    <tr>\n",
       "        <td>2018-06-18</td>\n",
       "    </tr>\n",
       "</table>"
      ],
      "text/plain": [
       "[(datetime.date(2018, 6, 1),),\n",
       " (datetime.date(2018, 6, 4),),\n",
       " (datetime.date(2018, 6, 7),),\n",
       " (datetime.date(2018, 6, 7),),\n",
       " (datetime.date(2018, 6, 13),),\n",
       " (datetime.date(2018, 6, 14),),\n",
       " (datetime.date(2018, 6, 14),),\n",
       " (datetime.date(2018, 6, 17),),\n",
       " (datetime.date(2018, 6, 18),)]"
      ]
     },
     "execution_count": 12,
     "metadata": {},
     "output_type": "execute_result"
    }
   ],
   "source": [
    "%sql SELECT (RESCUEDATE+3 DAYS) FROM PETRESCUE"
   ]
  },
  {
   "cell_type": "markdown",
   "metadata": {},
   "source": [
    "#### Special Registers: CURRENT_DATE, CURRENT_TIME"
   ]
  },
  {
   "cell_type": "code",
   "execution_count": 14,
   "metadata": {},
   "outputs": [
    {
     "name": "stdout",
     "output_type": "stream",
     "text": [
      " * ibm_db_sa://mpc82210:***@dashdb-txn-sbox-yp-dal09-10.services.dal.bluemix.net:50000/BLUDB\n",
      "Done.\n"
     ]
    },
    {
     "data": {
      "text/html": [
       "<table>\n",
       "    <tr>\n",
       "        <th>1</th>\n",
       "    </tr>\n",
       "    <tr>\n",
       "        <td>20521</td>\n",
       "    </tr>\n",
       "    <tr>\n",
       "        <td>20518</td>\n",
       "    </tr>\n",
       "    <tr>\n",
       "        <td>20515</td>\n",
       "    </tr>\n",
       "    <tr>\n",
       "        <td>20515</td>\n",
       "    </tr>\n",
       "    <tr>\n",
       "        <td>20509</td>\n",
       "    </tr>\n",
       "    <tr>\n",
       "        <td>20508</td>\n",
       "    </tr>\n",
       "    <tr>\n",
       "        <td>20508</td>\n",
       "    </tr>\n",
       "    <tr>\n",
       "        <td>20505</td>\n",
       "    </tr>\n",
       "    <tr>\n",
       "        <td>20504</td>\n",
       "    </tr>\n",
       "</table>"
      ],
      "text/plain": [
       "[(Decimal('20521'),),\n",
       " (Decimal('20518'),),\n",
       " (Decimal('20515'),),\n",
       " (Decimal('20515'),),\n",
       " (Decimal('20509'),),\n",
       " (Decimal('20508'),),\n",
       " (Decimal('20508'),),\n",
       " (Decimal('20505'),),\n",
       " (Decimal('20504'),)]"
      ]
     },
     "execution_count": 14,
     "metadata": {},
     "output_type": "execute_result"
    }
   ],
   "source": [
    "%sql SELECT (CURRENT_DATE - RESCUEDATE) FROM PETRESCUE"
   ]
  },
  {
   "cell_type": "code",
   "execution_count": null,
   "metadata": {},
   "outputs": [],
   "source": []
  }
 ],
 "metadata": {
  "kernelspec": {
   "display_name": "Python 3",
   "language": "python",
   "name": "python3"
  },
  "language_info": {
   "codemirror_mode": {
    "name": "ipython",
    "version": 3
   },
   "file_extension": ".py",
   "mimetype": "text/x-python",
   "name": "python",
   "nbconvert_exporter": "python",
   "pygments_lexer": "ipython3",
   "version": "3.8.3"
  }
 },
 "nbformat": 4,
 "nbformat_minor": 4
}
