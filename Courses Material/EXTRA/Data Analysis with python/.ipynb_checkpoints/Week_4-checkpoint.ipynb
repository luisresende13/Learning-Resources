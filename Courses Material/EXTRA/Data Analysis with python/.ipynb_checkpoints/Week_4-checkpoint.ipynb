{
 "cells": [
  {
   "cell_type": "code",
   "execution_count": null,
   "metadata": {},
   "outputs": [],
   "source": [
    "# SIMPLE AND MULTIPLE LINEAR REGRESSION:    -LinearRegression()\n",
    "\n",
    "# MODEL EVALUATION USING VISUALIZATION:    -seaborn.residplot    -seaborn.distplot\n",
    "\n",
    "# POLYNOMIAL REGRESSION AND PIPELINES:    -np.polyfit    -np.poly1d\n",
    "\n",
    "# MEASURES FOR IN-SAMPLE EVALUATION:    -\n",
    "\n",
    "# PREDICTION AND DECISION MAKING:    -"
   ]
  },
  {
   "cell_type": "code",
   "execution_count": 1,
   "metadata": {},
   "outputs": [],
   "source": [
    "#Importing Data Frames\n",
    "\n",
    "\n",
    "import pandas\n",
    "\n",
    "\n",
    "aust=pandas.read_excel('\\\\Users\\luisr\\Data_frames\\\\australia.xlsx')\n",
    "timeuse=pandas.read_csv('\\\\Users\\luisr\\Data_Frames\\\\timeuse.csv')\n",
    "cod=pandas.read_csv('\\\\Users\\luisr\\Data_Frames\\\\causesofdeath_france.csv')\n"
   ]
  },
  {
   "cell_type": "code",
   "execution_count": 2,
   "metadata": {},
   "outputs": [],
   "source": [
    "# Data preparation #1\n",
    "\n",
    "\n",
    "\n",
    "\n",
    "import numpy\n",
    "\n",
    "# taking out from column 'Values' spaces and ':' chars. Then convert column to float.\n",
    "cod['Value'] = numpy.array([num.replace(' ', '') for num in cod['Value']])\n",
    "cod.replace(':', 0, inplace=True)\n",
    "cod['Value']=cod['Value'].astype('float')\n",
    "\n"
   ]
  },
  {
   "cell_type": "code",
   "execution_count": 2,
   "metadata": {},
   "outputs": [],
   "source": [
    "# Data Preparation #2\n",
    "\n",
    "\n",
    "aust = aust[aust['region'] == 'Adelaide '].copy()\n",
    "\n",
    "\n",
    "aust.drop(['naplan'], axis=1, inplace=True)\n",
    "aust.dropna(subset=['unempy'], axis=0, inplace=True)\n",
    "\n",
    "aust.reset_index(drop=True, inplace=True)  \n"
   ]
  },
  {
   "cell_type": "code",
   "execution_count": 98,
   "metadata": {},
   "outputs": [
    {
     "data": {
      "text/plain": [
       "1.713333333333333"
      ]
     },
     "execution_count": 98,
     "metadata": {},
     "output_type": "execute_result"
    }
   ],
   "source": [
    "# Testing space #1\n",
    "\n",
    "ass1 = [4.34, 0.05, 0.02, 12.81, 2.16, 0.0]\n",
    "ass2 = [3.96, 0.05, 0.02, 22.22, 3.41, 0.0]\n",
    "\n",
    "grau=0\n",
    "for i in range(6):\n",
    "    grau += ass1[i]-ass2[i]\n",
    "abs(grau/6)"
   ]
  },
  {
   "cell_type": "code",
   "execution_count": 20,
   "metadata": {},
   "outputs": [],
   "source": [
    "# Testing space #2\n",
    "\n"
   ]
  },
  {
   "cell_type": "code",
   "execution_count": null,
   "metadata": {},
   "outputs": [],
   "source": [
    "\n",
    "\n",
    "############  SIMPLE AND MULTIPLE LINEAR REGRESSION   ###########\n",
    "\n"
   ]
  },
  {
   "cell_type": "code",
   "execution_count": 47,
   "metadata": {},
   "outputs": [
    {
     "data": {
      "text/plain": [
       "0.683499119567993"
      ]
     },
     "execution_count": 47,
     "metadata": {},
     "output_type": "execute_result"
    }
   ],
   "source": [
    "# -LinearRegression()\n",
    "\n",
    "\n",
    "from sklearn.linear_model import LinearRegression\n",
    "\n",
    "\n",
    "y = aust['premort']\n",
    "x1 = aust[['smoke']]\n",
    "x2 = aust[['nocar', 'unemp', 'disab', 'obeseper', 'smoke', 'psych']]\n",
    "\n",
    "lr=LinearRegression()\n",
    "\n",
    "lr.fit(x1, y)\n",
    "#lr.fit(x2, y)\n",
    "\n",
    "R2 = lr.score(x1, y)\n",
    "#R2 = lr.score(x2, y)\n",
    "\n",
    "\n",
    "y_pred1 = lr.predict(x1)\n",
    "#y_pred2 = lr_zy.predict(x2)\n",
    "\n",
    "\n",
    "\n",
    "#lr.intercept_\n",
    "#lr.coef_\n",
    "\n",
    "R2\n",
    "#y_pred1\n",
    "\n"
   ]
  },
  {
   "cell_type": "code",
   "execution_count": null,
   "metadata": {},
   "outputs": [],
   "source": [
    "\n",
    "\n",
    "################   MODEL EVALUATION USING VISUALIZATION   ################################\n",
    "\n"
   ]
  },
  {
   "cell_type": "code",
   "execution_count": 81,
   "metadata": {},
   "outputs": [],
   "source": [
    "# -residplot\n",
    "\n",
    "\n",
    "import seaborn\n",
    "\n",
    "#seaborn.residplot(x1, y, color='r')\n",
    "\n",
    "\n",
    "# Method takes variables x and y, performs regression and finds residuals (y - y_pred)."
   ]
  },
  {
   "cell_type": "code",
   "execution_count": 69,
   "metadata": {},
   "outputs": [],
   "source": [
    "# -displot\n",
    "\n",
    "\n",
    "import seaborn\n",
    "\n",
    "#dist_y = seaborn.distplot(y, hist=True, color='b', label='premort')\n",
    "\n",
    "#seaborn.distplot(y_pred1, hist=True, color='r', label='premort_pred', ax=dist_y)\n",
    "\n",
    "#plt.xlim(0,)\n",
    "\n"
   ]
  },
  {
   "cell_type": "code",
   "execution_count": null,
   "metadata": {},
   "outputs": [],
   "source": [
    "\n",
    "\n",
    "#################    POLYNOMIAL REGRESSION AND PIPELINE   ##########################\n",
    "\n"
   ]
  },
  {
   "cell_type": "code",
   "execution_count": 41,
   "metadata": {},
   "outputs": [
    {
     "data": {
      "text/plain": [
       "poly1d([ 0.07541587,  1.72296248, 47.15329798])"
      ]
     },
     "execution_count": 41,
     "metadata": {},
     "output_type": "execute_result"
    }
   ],
   "source": [
    "# -numpy.polyfit\n",
    "\n",
    "\n",
    "import numpy\n",
    "\n",
    "fit = numpy.polyfit(x1['smoke'], y, 2)\n",
    "eq = numpy.poly1d(fit)\n",
    "\n",
    "print(eq)\n",
    "\n",
    "\n",
    "# Encontra equação da regressão polynomial simples de x e y.\n"
   ]
  },
  {
   "cell_type": "code",
   "execution_count": 86,
   "metadata": {},
   "outputs": [],
   "source": [
    "# -PolynomialFeatures()\n",
    "\n",
    "\n",
    "from sklearn.preprocessing import PolynomialFeatures\n",
    "\n",
    "pf = PolynomialFeatures(degree=2, include_bias=False)\n",
    "\n",
    "x1_poly = pf.fit_transform(x1)\n",
    "\n",
    "x2_poly = pf.fit_transform(x2)\n",
    "\n",
    "#x2_poly\n",
    "\n",
    "\n",
    "\n",
    "\n"
   ]
  },
  {
   "cell_type": "code",
   "execution_count": 28,
   "metadata": {},
   "outputs": [
    {
     "data": {
      "text/plain": [
       "<matplotlib.axes._subplots.AxesSubplot at 0x21e72e87a30>"
      ]
     },
     "execution_count": 28,
     "metadata": {},
     "output_type": "execute_result"
    },
    {
     "data": {
      "image/png": "[encoded data removed]",
      "text/plain": [
       "<Figure size 432x288 with 1 Axes>"
      ]
     },
     "metadata": {
      "needs_background": "light"
     },
     "output_type": "display_data"
    }
   ],
   "source": [
    "from sklearn.preprocessing import StandardScaler\n",
    "\n",
    "std_scl = StandardScaler()\n",
    "\n",
    "std_scl.fit(x1)\n",
    "\n",
    "x1_std = std_scl.transform(x1)\n",
    "\n",
    "\n",
    "\n",
    "# Visualizing standartization of x1.\n",
    "\n",
    "import seaborn\n",
    "\n",
    "ax1 = seaborn.distplot(x1_std, hist=False, color='r', label='smoke_std')\n",
    "seaborn.distplot(x1, hist=False, color='b', label='smoke', ax=ax1)\n",
    "\n",
    "#x1, x1_std\n"
   ]
  },
  {
   "cell_type": "code",
   "execution_count": null,
   "metadata": {},
   "outputs": [],
   "source": []
  },
  {
   "cell_type": "code",
   "execution_count": 90,
   "metadata": {},
   "outputs": [
    {
     "data": {
      "text/plain": [
       "1.0"
      ]
     },
     "execution_count": 90,
     "metadata": {},
     "output_type": "execute_result"
    }
   ],
   "source": [
    "# -Pipeline\n",
    "\n",
    "\n",
    "from sklearn.pipeline import Pipeline\n",
    "\n",
    "\n",
    "construtores=[('std_scl',StandardScaler()),('pf',PolynomialFeatures(degree=2, include_bias=False)),('lr',LinearRegression())]\n",
    "\n",
    "pipe=Pipeline(construtores)\n",
    "\n",
    "# Fitting\n",
    "pipe.fit(x2, y)\n",
    "\n",
    "# Predicting\n",
    "y_pred = pipe.predict(x2)\n",
    "\n",
    "# Scoring\n",
    "R2 = pipe.score(x2, y)\n",
    "\n",
    "#y_pred, R2\n",
    "\n"
   ]
  },
  {
   "cell_type": "code",
   "execution_count": null,
   "metadata": {},
   "outputs": [],
   "source": [
    "\n",
    "\n",
    "##############  MEASURES FOR IN-SAMPLE EVALUATION  ###################################3\n",
    "\n"
   ]
  },
  {
   "cell_type": "code",
   "execution_count": 89,
   "metadata": {},
   "outputs": [
    {
     "data": {
      "text/plain": [
       "6395.32340149761"
      ]
     },
     "execution_count": 89,
     "metadata": {},
     "output_type": "execute_result"
    }
   ],
   "source": [
    "from sklearn.metrics import mean_squared_error\n",
    "\n",
    "msqe = mean_squared_error(x1, y)\n",
    "\n",
    "#msqe\n"
   ]
  },
  {
   "cell_type": "code",
   "execution_count": 95,
   "metadata": {},
   "outputs": [
    {
     "data": {
      "text/plain": [
       "0.683499119567993"
      ]
     },
     "execution_count": 95,
     "metadata": {},
     "output_type": "execute_result"
    }
   ],
   "source": [
    "R2 = lr.score(x1, y)\n",
    "\n",
    "R2\n"
   ]
  },
  {
   "cell_type": "code",
   "execution_count": null,
   "metadata": {},
   "outputs": [],
   "source": []
  },
  {
   "cell_type": "code",
   "execution_count": null,
   "metadata": {},
   "outputs": [],
   "source": []
  }
 ],
 "metadata": {
  "kernelspec": {
   "display_name": "Python 3",
   "language": "python",
   "name": "python3"
  },
  "language_info": {
   "codemirror_mode": {
    "name": "ipython",
    "version": 3
   },
   "file_extension": ".py",
   "mimetype": "text/x-python",
   "name": "python",
   "nbconvert_exporter": "python",
   "pygments_lexer": "ipython3",
   "version": "3.8.3"
  }
 },
 "nbformat": 4,
 "nbformat_minor": 4
}
