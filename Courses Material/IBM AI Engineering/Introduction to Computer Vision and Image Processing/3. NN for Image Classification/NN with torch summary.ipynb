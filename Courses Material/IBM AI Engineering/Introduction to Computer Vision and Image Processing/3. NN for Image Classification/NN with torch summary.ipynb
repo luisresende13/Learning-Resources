{
 "cells": [
  {
   "cell_type": "code",
   "execution_count": 1099,
   "metadata": {},
   "outputs": [],
   "source": [
    "# Import the libraries we need for this lab\n",
    "\n",
    "# Allows us to use arrays to manipulate and store data\n",
    "import numpy as np\n",
    "# PyTorch Library\n",
    "import torch\n",
    "# PyTorch Neural Network\n",
    "import torch.nn as nn\n",
    "# Allows us to use activation functions\n",
    "import torch.nn.functional as F\n",
    "# Used to graph data and loss curves\n",
    "import matplotlib.pyplot as plt \n",
    "from matplotlib.colors import ListedColormap\n",
    "# Used to help create the dataset and perform mini-batch\n",
    "from torch.utils.data import Dataset, DataLoader\n",
    "\n",
    "import torchvision.transforms as transforms\n",
    "\n",
    "import pandas as pd\n",
    "from sklearn.preprocessing import StandardScaler as ss, MinMaxScaler as mms\n",
    "from sklearn.preprocessing import LabelEncoder as le\n",
    "\n",
    "from IPython.display import clear_output"
   ]
  },
  {
   "cell_type": "markdown",
   "metadata": {},
   "source": [
    "---"
   ]
  },
  {
   "cell_type": "markdown",
   "metadata": {},
   "source": [
    "#### Sample a dataframe into training and testing sets by specifying the count of each class of the binary target variable for both sets. It includes the option to automaticly fill the \"1\" class members or to equalize the number of members."
   ]
  },
  {
   "cell_type": "markdown",
   "metadata": {},
   "source": [
    "binary_sample(df, target, categories=[[0], [1]],\n",
    "                  testing=[1000, 1000], training=[5000, 5000],\n",
    "                  fill_train_1=False, equal_train_0=False,\n",
    "                  test_set=None, print_shapes=False, invert=False)"
   ]
  },
  {
   "cell_type": "code",
   "execution_count": 1124,
   "metadata": {},
   "outputs": [],
   "source": [
    "def binary_sample(df, target, categories=[[0], [1]],\n",
    "                  testing=[1000, 1000], training=[5000, 5000],\n",
    "                  fill_train_1=False, equal_train_0=False,\n",
    "                  test_set=None, print_shapes=False, invert=False, path=None):\n",
    "    \n",
    "    if invert:\n",
    "        training=testing.copy()\n",
    "        testing=[None, None]\n",
    "    \n",
    "    print('Extraindo Index por Categoria...')\n",
    "    index_0 = df[df[target].isin(categories[0])].index\n",
    "    index_1 = df[df[target].isin(categories[1])].index\n",
    "        \n",
    "    if type(test_set)==type(None):\n",
    "        return_test=True\n",
    "        print('Extraindo Index Teste - {} para {}...'.format(testing[0], testing[1]))\n",
    "        test_index = list(np.random.choice(index_0, testing[0], replace=False)) + list(np.random.choice(index_1, testing[1], replace=False))\n",
    "        print('Extraindo Tabela de Teste...')\n",
    "        test_set = df.loc[test_index]\n",
    "    \n",
    "    else:\n",
    "        return_test=False\n",
    "        test_index = test_set.index.tolist()        \n",
    "    \n",
    "    print('Extraindo Index Treinamento (Excluindo Index Teste) - {} para {}...'.format(training[0], training[1]))  \n",
    "    \n",
    "    index_1_train = list(set(index_1).difference(test_index))   # Está Invertido (1 depois 0)\n",
    "    if not fill_train_1: index_1_train = list(np.random.choice(index_1_train, training[1], replace=False))\n",
    "    \n",
    "    index_0_train = list(set(index_0).difference(test_index))\n",
    "    if equal_train_0: training[0] = len(index_1_train)\n",
    "    index_0_train = list(np.random.choice(index_0_train, training[0], replace=False))\n",
    "    \n",
    "    train_index = index_0_train + index_1_train\n",
    "    \n",
    "    print('Extracting Training Sample...')\n",
    "    train_set = df.loc[train_index]    \n",
    "        \n",
    "    clear_output(wait=True)\n",
    "    if print_shapes:\n",
    "        print('Original Shape:')\n",
    "        print(ano9_base.shape)\n",
    "        print('Test Set Shape:')\n",
    "        print(test_set.shape)\n",
    "        print('Train Set Shape:')\n",
    "        print(train_set.shape)\n",
    "        print('')\n",
    "\n",
    "    \n",
    "    sets = [df, train_set, test_set]\n",
    "    report_cols = ['Original', 'Training', 'Testing']\n",
    "    \n",
    "    print('Target Classes Count:')\n",
    "    if invert: \n",
    "        report_cols[1], report_cols[2] = report_cols[2], report_cols[1]\n",
    "\n",
    "    relatorio_amostragem = pd.concat([data_set[target]\n",
    "                                      .value_counts()\n",
    "                                      .to_frame()\n",
    "                                      .rename(columns={target:col_name}) for data_set, col_name in zip(sets, report_cols)], axis=1)\n",
    "    relatorio_amostragem.index=[f'Class {k}' for k in relatorio_amostragem.index]\n",
    "    display(relatorio_amostragem)\n",
    "    if type(path)!=type(None): dfi.export(relatorio_amostragem, path)\n",
    "   \n",
    "    inter = set(train_set.index).intersection(test_set.index)\n",
    "    if inter: print('\\nLeaked Information!')\n",
    "    else: print('\\nNo Information Leaked to the Testing Set.')\n",
    "\n",
    "    if not return_test: return train_set\n",
    "    return train_set, test_set"
   ]
  },
  {
   "cell_type": "markdown",
   "metadata": {},
   "source": [
    "---"
   ]
  },
  {
   "cell_type": "markdown",
   "metadata": {},
   "source": [
    "# GET DATA"
   ]
  },
  {
   "cell_type": "markdown",
   "metadata": {},
   "source": [
    "## Original Data Text"
   ]
  },
  {
   "cell_type": "code",
   "execution_count": 51,
   "metadata": {
    "jupyter": {
     "source_hidden": true
    }
   },
   "outputs": [],
   "source": [
    "text = '''1. ID is number of record in original database. Cannot be related to participant. It can be used for reference only.\n",
    "\n",
    "2. Age (Real) is age of participant and has one of the values:\n",
    "Value Meaning Cases Fraction\n",
    "-0.95197 18-24 643 34.11%\n",
    "-0.07854 25-34 481 25.52%\n",
    "0.49788 35-44 356 18.89%\n",
    "1.09449 45-54 294 15.60%\n",
    "1.82213 55-64 93 4.93%\n",
    "2.59171 65+ 18 0.95%\n",
    "Descriptive statistics\n",
    "Min Max Mean Std.dev.\n",
    "-0.95197 2.59171 0.03461 0.87813\n",
    "\n",
    "3. Gender (Real) is gender of participant:\n",
    "Value Meaning Cases Fraction\n",
    "0.48246 Female 942 49.97%\n",
    "-0.48246 Male 943 50.03%\n",
    "Descriptive statistics\n",
    "Min Max Mean Std.dev.\n",
    "-0.48246 0.48246 -0.00026 0.48246\n",
    "\n",
    "4. Education (Real) is level of education of participant and has one of the values:\n",
    "Value Meaning Cases Fraction\n",
    "-2.43591 Left school before 16 years 28 1.49%\n",
    "-1.73790 Left school at 16 years 99 5.25%\n",
    "-1.43719 Left school at 17 years 30 1.59%\n",
    "-1.22751 Left school at 18 years 100 5.31%\n",
    "-0.61113 Some college or university, no certificate or degree 506 26.84%\n",
    "-0.05921 Professional certificate/ diploma 270 14.32%\n",
    "0.45468 University degree 480 25.46%\n",
    "1.16365 Masters degree 283 15.01%\n",
    "1.98437 Doctorate degree 89 4.72%\n",
    "Descriptive statistics\n",
    "Min Max Mean Std.dev.\n",
    "-2.43591 1.98437 -0.00379 0.95004\n",
    "\n",
    "5. Country (Real) is country of current residence of participant and has one of the values:\n",
    "Value Meaning Cases Fraction\n",
    "-0.09765 Australia 54 2.86%\n",
    "0.24923 Canada 87 4.62%\n",
    "-0.46841 New Zealand 5 0.27%\n",
    "-0.28519 Other 118 6.26%\n",
    "0.21128 Republic of Ireland 20 1.06%\n",
    "0.96082 UK 1044 55.38%\n",
    "-0.57009 USA 557 29.55%\n",
    "Descriptive statistics\n",
    "Min Max Mean Std.dev.\n",
    "-0.57009 0.96082 0.35554 0.70015\n",
    "\n",
    "6. Ethnicity (Real) is ethnicity of participant and has one of the values:\n",
    "Value Meaning Cases Fraction\n",
    "-0.50212 Asian 26 1.38%\n",
    "-1.10702 Black 33 1.75%\n",
    "1.90725 Mixed-Black/Asian 3 0.16%\n",
    "0.12600 Mixed-White/Asian 20 1.06%\n",
    "-0.22166 Mixed-White/Black 20 1.06%\n",
    "0.11440 Other 63 3.34%\n",
    "-0.31685 White 1720 91.25%\n",
    "Descriptive statistics\n",
    "Min Max Mean Std.dev.\n",
    "-1.10702 1.90725 -0.30958 0.16618\n",
    "\n",
    "7. Nscore (Real) is NEO-FFI-R Neuroticism. Possible values are presented in table below:\n",
    "Nscore Cases Value Nscore Cases Value Nscore Cases Value\n",
    "12 1 -3.46436 29 60 -0.67825 46 67 1.02119\n",
    "13 1 -3.15735 30 61 -0.58016 47 27 1.13281\n",
    "14 7 -2.75696 31 87 -0.46725 48 49 1.23461\n",
    "15 4 -2.52197 32 78 -0.34799 49 40 1.37297\n",
    "16 3 -2.42317 33 68 -0.24649 50 24 1.49158\n",
    "17 4 -2.34360 34 76 -0.14882 51 27 1.60383\n",
    "18 10 -2.21844 35 69 -0.05188 52 17 1.72012\n",
    "19 16 -2.05048 36 73 0.04257 53 20 1.83990\n",
    "20 24 -1.86962 37 67 0.13606 54 15 1.98437\n",
    "21 31 -1.69163 38 63 0.22393 55 11 2.12700\n",
    "22 26 -1.55078 39 66 0.31287 56 10 2.28554\n",
    "23 29 -1.43907 40 80 0.41667 57 6 2.46262\n",
    "24 35 -1.32828 41 61 0.52135 58 3 2.61139\n",
    "25 56 -1.19430 42 77 0.62967 59 5 2.82196\n",
    "26 57 -1.05308 43 49 0.73545 60 2 3.27393\n",
    "27 65 -0.92104 44 51 0.82562\n",
    "28 70 -0.79151 45 37 0.91093\n",
    "Descriptive statistics\n",
    "Min Max Mean Std.dev.\n",
    "-3.46436 3.27393 0.00004 0.99808\n",
    "\n",
    "8. Escore (Real) is NEO-FFI-R Extraversion. Possible values are presented in table below:\n",
    "Escore Cases Value Escore Cases Value Escore Cases Value\n",
    "16 2 -3.27393 31 55 -1.23177 45 91 0.80523\n",
    "18 1 -3.00537 32 52 -1.09207 46 69 0.96248\n",
    "19 6 -2.72827 33 77 -0.94779 47 64 1.11406\n",
    "20 3 -2.53830 34 68 -0.80615 48 62 1.28610\n",
    "21 3 -2.44904 35 58 -0.69509 49 37 1.45421\n",
    "22 8 -2.32338 36 89 -0.57545 50 25 1.58487\n",
    "23 5 -2.21069 37 90 -0.43999 51 34 1.74091\n",
    "24 9 -2.11437 38 106 -0.30033 52 21 1.93886\n",
    "25 4 -2.03972 39 107 -0.15487 53 15 2.12700\n",
    "26 21 -1.92173 40 130 0.00332 54 10 2.32338\n",
    "27 23 -1.76250 41 116 0.16767 55 9 2.57309\n",
    "28 23 -1.63340 42 109 0.32197 56 2 2.85950\n",
    "29 32 -1.50796 43 105 0.47617 58 1 3.00537\n",
    "30 38 -1.37639 44 103 0.63779 59 2 3.27393\n",
    "Descriptive statistics\n",
    "Min Max Mean Std.dev.\n",
    "-3.27393 3.27393 -0.00016 0.99745\n",
    "\n",
    "9. Oscore (Real) is NEO-FFI-R Openness to experience. Possible values are presented in table below:\n",
    "Oscore Cases Value Oscore Cases Value Oscore Cases Value\n",
    "24 2 -3.27393 38 64 -1.11902 50 83 0.58331\n",
    "26 4 -2.85950 39 60 -0.97631 51 87 0.72330\n",
    "28 4 -2.63199 40 68 -0.84732 52 87 0.88309\n",
    "29 11 -2.39883 41 76 -0.71727 53 81 1.06238\n",
    "30 9 -2.21069 42 87 -0.58331 54 57 1.24033\n",
    "31 9 -2.09015 43 86 -0.45174 55 63 1.43533\n",
    "32 13 -1.97495 44 101 -0.31776 56 38 1.65653\n",
    "33 23 -1.82919 45 103 -0.17779 57 34 1.88511\n",
    "34 25 -1.68062 46 134 -0.01928 58 19 2.15324\n",
    "35 26 -1.55521 47 107 0.14143 59 13 2.44904\n",
    "36 39 -1.42424 48 116 0.29338 60 7 2.90161\n",
    "37 51 -1.27553 49 98 0.44585\n",
    "Descriptive statistics\n",
    "Min Max Mean Std.dev.\n",
    "-3.27393 2.90161 -0.00053 0.99623\n",
    "\n",
    "10. Ascore (Real) is NEO-FFI-R Agreeableness. Possible values are presented in table below:\n",
    "Ascore Cases Value Ascore Cases Value Ascore Cases Value\n",
    "12 1 -3.46436 34 42 -1.34289 48 104 0.76096\n",
    "16 1 -3.15735 35 45 -1.21213 49 85 0.94156\n",
    "18 1 -3.00537 36 62 -1.07533 50 68 1.11406\n",
    "23 1 -2.90161 37 83 -0.91699 51 58 1.2861\n",
    "24 2 -2.78793 38 82 -0.76096 52 39 1.45039\n",
    "25 1 -2.70172 39 102 -0.60633 53 36 1.61108\n",
    "26 7 -2.53830 40 98 -0.45321 54 36 1.81866\n",
    "27 7 -2.35413 41 114 -0.30172 55 16 2.03972\n",
    "28 8 -2.21844 42 101 -0.15487 56 14 2.23427\n",
    "29 13 -2.07848 43 105 -0.01729 57 8 2.46262\n",
    "30 18 -1.92595 44 118 0.13136 58 7 2.75696\n",
    "31 24 -1.77200 45 112 0.28783 59 1 3.15735\n",
    "32 30 -1.62090 46 100 0.43852 60 1 3.46436\n",
    "33 34 -1.47955 47 100 0.59042\n",
    "Descriptive statistics\n",
    "Min Max Mean Std.dev.\n",
    "-3.46436 3.46436 -0.00024 0.99744\n",
    "\n",
    "11. Cscore (Real) is NEO-FFI-R Conscientiousness. Possible values are presented in table below:\n",
    "Cscore Cases Value Cscore Cases Value Cscore Cases Value\n",
    "17 1 -3.46436 32 39 -1.25773 46 113 0.58489\n",
    "19 1 -3.15735 33 49 -1.13788 47 95 0.7583\n",
    "20 3 -2.90161 34 55 -1.01450 48 95 0.93949\n",
    "21 2 -2.72827 35 55 -0.89891 49 76 1.13407\n",
    "22 5 -2.57309 36 69 -0.78155 50 47 1.30612\n",
    "23 5 -2.42317 37 81 -0.65253 51 43 1.46191\n",
    "24 6 -2.30408 38 77 -0.52745 52 34 1.63088\n",
    "25 9 -2.18109 39 87 -0.40581 53 28 1.81175\n",
    "26 13 -2.04506 40 97 -0.27607 54 27 2.04506\n",
    "27 13 -1.92173 41 99 -0.14277 55 13 2.33337\n",
    "28 25 -1.78169 42 105 -0.00665 56 8 2.63199\n",
    "29 24 -1.64101 43 90 0.12331 57 3 3.00537\n",
    "30 29 -1.51840 44 111 0.25953 59 1 3.46436\n",
    "31 41 -1.38502 45 111 0.41594\n",
    "Descriptive statistics\n",
    "Min Max Mean Std.dev.\n",
    "-3.46436 3.46436 -0.00039 0.99752\n",
    "\n",
    "12. Impulsive (Real) is impulsiveness measured by BIS-11. Possible values are presented in table below:\n",
    "Impulsiveness Cases Fraction\n",
    "-2.55524 20 1.06%\n",
    "-1.37983 276 14.64%\n",
    "-0.71126 307 16.29%\n",
    "-0.21712 355 18.83%\n",
    "0.19268 257 13.63%\n",
    "0.52975 216 11.46%\n",
    "0.88113 195 10.34%\n",
    "1.29221 148 7.85%\n",
    "1.86203 104 5.52%\n",
    "2.90161 7 0.37%\n",
    "Descriptive statistics\n",
    "Min Max Mean Std.dev.\n",
    "-2.55524 2.90161 0.00721 0.95446\n",
    "\n",
    "13. SS (Real) is sensation seeing measured by ImpSS. Possible values are presented in table below:\n",
    "SS Cases Fraction\n",
    "-2.07848 71 3.77%\n",
    "-1.54858 87 4.62%\n",
    "-1.18084 132 7.00%\n",
    "-0.84637 169 8.97%\n",
    "-0.52593 211 11.19%\n",
    "-0.21575 223 11.83%\n",
    "0.07987 219 11.62%\n",
    "0.40148 249 13.21%\n",
    "0.76540 211 11.19%\n",
    "1.22470 210 11.14%\n",
    "1.92173 103 5.46%\n",
    "Descriptive statistics\n",
    "Min Max Mean Std.dev.\n",
    "-2.07848 1.92173 -0.00329 0.96370\n",
    "\n",
    "14. Alcohol is class of alcohol consumption. It is output attribute with following distribution of classes.\n",
    "\n",
    "15. Amphet is class of amphetamines consumption. It is output attribute with following distribution of classes.\n",
    "\n",
    "16. Amyl is class of amyl nitrite consumption. It is output attribute with following distribution of classes.\n",
    "\n",
    "17. Benzos is class of benzodiazepine consumption. It is output attribute with following distribution of classes:\n",
    "Value Class Alcohol Amphet Amyl Benzos\n",
    "Cases Fraction Cases Fraction Cases Fraction Cases Fraction\n",
    "CL0 Never Used 34 1.80% 976 51.78% 1305 69.23% 1000 53.05%\n",
    "CL1 Used over a Decade Ago 34 1.80% 230 12.20% 210 11.14% 116 6.15%\n",
    "CL2 Used in Last Decade 68 3.61% 243 12.89% 237 12.57% 234 12.41%\n",
    "CL3 Used in Last Year 198 10.50% 198 10.50% 92 4.88% 236 12.52%\n",
    "CL4 Used in Last Month 287 15.23% 75 3.98% 24 1.27% 120 6.37%\n",
    "CL5 Used in Last Week 759 40.27% 61 3.24% 14 0.74% 84 4.46%\n",
    "CL6 Used in Last Day 505 26.79% 102 5.41% 3 0.16% 95 5.04%\n",
    "\n",
    "18. Caff is class of caffeine consumption. It is output attribute with following distribution of classes.\n",
    "\n",
    "19. Cannabis is class of cannabis consumption. It is output attribute with following distribution of classes.\n",
    "\n",
    "20. Choc is class of chocolate consumption. It is output attribute with following distribution of classes.\n",
    "\n",
    "21. Coke is class of cocaine consumption. It is output attribute with following distribution of classes:\n",
    "Value Class Caff Cannabis Choc Coke\n",
    "Cases Fraction Cases Fraction Cases Fraction Cases Fraction\n",
    "CL0 Never Used 27 1.43% 413 21.91% 32 1.70% 1038 55.07%\n",
    "CL1 Used over a Decade Ago 10 0.53% 207 10.98% 3 0.16% 160 8.49%\n",
    "CL2 Used in Last Decade 24 1.27% 266 14.11% 10 0.53% 270 14.32%\n",
    "CL3 Used in Last Year 60 3.18% 211 11.19% 54 2.86% 258 13.69%\n",
    "CL4 Used in Last Month 106 5.62% 140 7.43% 296 15.70% 99 5.25%\n",
    "CL5 Used in Last Week 273 14.48% 185 9.81% 683 36.23% 41 2.18%\n",
    "CL6 Used in Last Day 1385 73.47% 463 24.56% 807 42.81% 19 1.01%\n",
    "\n",
    "22. Crack is class of crack consumption. It is output attribute with following distribution of classes.\n",
    "\n",
    "23. Ecstasy is class of ecstasy consumption. It is output attribute with following distribution of classes.\n",
    "\n",
    "24. Heroin is class of heroin consumption. It is output attribute with following distribution of classes.\n",
    "\n",
    "25. Ketamine is class of ketamine consumption. It is output attribute with following distribution of classes:\n",
    "Value Class Crack Ecstasy Heroin Ketamine\n",
    "Cases Fraction Cases Fraction Cases Fraction Cases Fraction\n",
    "CL0 Never Used 1627 86.31% 1021 54.16% 1605 85.15% 1490 79.05%\n",
    "CL1 Used over a Decade Ago 67 3.55% 113 5.99% 68 3.61% 45 2.39%\n",
    "CL2 Used in Last Decade 112 5.94% 234 12.41% 94 4.99% 142 7.53%\n",
    "CL3 Used in Last Year 59 3.13% 277 14.69% 65 3.45% 129 6.84%\n",
    "CL4 Used in Last Month 9 0.48% 156 8.28% 24 1.27% 42 2.23%\n",
    "CL5 Used in Last Week 9 0.48% 63 3.34% 16 0.85% 33 1.75%\n",
    "CL6 Used in Last Day 2 0.11% 21 1.11% 13 0.69% 4 0.21%\n",
    "\n",
    "26. Legalh is class of legal highs consumption. It is output attribute with following distribution of classes\n",
    "\n",
    "27. LSD is class of alcohol consumption. It is output attribute with following distribution of classes\n",
    "\n",
    "28. Meth is class of methadone consumption. It is output attribute with following distribution of classes.\n",
    "\n",
    "29. Mushrooms is class of magic mushrooms consumption. It is output attribute with following distribution of classes:\n",
    "Value Class Legalh LSD Meth Mushrooms\n",
    "Cases Fraction Cases Fraction Cases Fraction Cases Fraction\n",
    "CL0 Never Used 1094 58.04% 1069 56.71% 1429 75.81% 982 52.10%\n",
    "CL1 Used over a Decade Ago 29 1.54% 259 13.74% 39 2.07% 209 11.09%\n",
    "CL2 Used in Last Decade 198 10.50% 177 9.39% 97 5.15% 260 13.79%\n",
    "CL3 Used in Last Year 323 17.14% 214 11.35% 149 7.90% 275 14.59%\n",
    "CL4 Used in Last Month 110 5.84% 97 5.15% 50 2.65% 115 6.10%\n",
    "CL5 Used in Last Week 64 3.40% 56 2.97% 48 2.55% 40 2.12%\n",
    "CL6 Used in Last Day 67 3.55% 13 0.69% 73 3.87% 4 0.21%\n",
    "\n",
    "30. Nicotine is class of nicotine consumption. It is output attribute with following distribution of classes.\n",
    "\n",
    "31. Semer is class of fictitious drug Semeron consumption. It is output attribute with following distribution of classes.\n",
    "\n",
    "32. VSA is class of volatile substance abuse consumption. It is output attribute with following distribution of classes:\n",
    "Value Class Nicotine S'''"
   ]
  },
  {
   "cell_type": "markdown",
   "metadata": {},
   "source": [
    "---"
   ]
  },
  {
   "cell_type": "markdown",
   "metadata": {},
   "source": [
    "# Extracting Variables Categories Legends"
   ]
  },
  {
   "cell_type": "markdown",
   "metadata": {},
   "source": [
    "### Drug Categories Legend"
   ]
  },
  {
   "cell_type": "code",
   "execution_count": 183,
   "metadata": {},
   "outputs": [],
   "source": [
    "drug_legend = '''CL0 Never Used\n",
    "CL1 Used over a Decade Ago\n",
    "CL2 Used in Last Decade\n",
    "CL3 Used in Last Year\n",
    "CL4 Used in Last Month\n",
    "CL5 Used in Last Week\n",
    "CL6 Used in Last Day'''"
   ]
  },
  {
   "cell_type": "code",
   "execution_count": 184,
   "metadata": {},
   "outputs": [
    {
     "data": {
      "text/plain": [
       "{'CL0': 'Never Used',\n",
       " 'CL1': 'Used over a Decade Ago',\n",
       " 'CL2': 'Used in Last Decade',\n",
       " 'CL3': 'Used in Last Year',\n",
       " 'CL4': 'Used in Last Month',\n",
       " 'CL5': 'Used in Last Week',\n",
       " 'CL6': 'Used in Last Day'}"
      ]
     },
     "execution_count": 184,
     "metadata": {},
     "output_type": "execute_result"
    }
   ],
   "source": [
    "drug_categories_dict = {item.split(' ')[0]: ' '.join(item.split(' ')[1:]) for item in drug_legend.split('\\n')}; drug_categories_dict"
   ]
  },
  {
   "cell_type": "markdown",
   "metadata": {},
   "source": [
    "### Descriptors Categories Legends"
   ]
  },
  {
   "cell_type": "code",
   "execution_count": 195,
   "metadata": {},
   "outputs": [],
   "source": [
    "IDS = ['Age', 'Gender', 'Education', 'Country', 'Ethnicity']\n",
    "\n",
    "legends = dict()\n",
    "for feature_index in range(1,6):\n",
    "    \n",
    "    feat_dict = dict()\n",
    "    for item in text.split('\\n\\n')[feature_index].split('\\n')[2:-3]:    \n",
    "        feat_dict[float(item.split(' ')[0])] = ' '.join(item.split(' ')[1:-2])\n",
    "\n",
    "    legends[IDS[feature_index-1]] = feat_dict"
   ]
  },
  {
   "cell_type": "code",
   "execution_count": 196,
   "metadata": {},
   "outputs": [
    {
     "data": {
      "text/plain": [
       "{-0.95197: '18-24',\n",
       " -0.07854: '25-34',\n",
       " 0.49788: '35-44',\n",
       " 1.09449: '45-54',\n",
       " 1.82213: '55-64',\n",
       " 2.59171: '65+'}"
      ]
     },
     "execution_count": 196,
     "metadata": {},
     "output_type": "execute_result"
    }
   ],
   "source": [
    "legends['Age']"
   ]
  },
  {
   "cell_type": "markdown",
   "metadata": {},
   "source": [
    "---"
   ]
  },
  {
   "cell_type": "markdown",
   "metadata": {},
   "source": [
    "# Data Cleaning"
   ]
  },
  {
   "cell_type": "code",
   "execution_count": 197,
   "metadata": {},
   "outputs": [],
   "source": [
    "drug = pd.read_csv('/Users/luisr/Desktop/drug_consumption.data', delimiter=',')"
   ]
  },
  {
   "cell_type": "code",
   "execution_count": 198,
   "metadata": {},
   "outputs": [],
   "source": [
    "columns = [i.split()[1] for i in text.split('\\n\\n')]\n",
    "drug = drug.T.reset_index().T\n",
    "drug.columns = columns\n",
    "drug[drug.columns[6:13]] = drug[drug.columns[6:13]].astype(float)\n",
    "drug.drop('index', inplace=True)\n",
    "\n",
    "for col in drug.columns[1:6]: drug[col] = [round(item, 5) for item in drug[col]]"
   ]
  },
  {
   "cell_type": "code",
   "execution_count": 199,
   "metadata": {},
   "outputs": [
    {
     "name": "stdout",
     "output_type": "stream",
     "text": [
      "['ID', 'Age', 'Gender', 'Education', 'Country', 'Ethnicity', 'Nscore', 'Escore', 'Oscore', 'Ascore', 'Cscore', 'Impulsive', 'SS']\n"
     ]
    }
   ],
   "source": [
    "feats = drug.columns[:13].tolist(); print(feats)"
   ]
  },
  {
   "cell_type": "code",
   "execution_count": 201,
   "metadata": {},
   "outputs": [
    {
     "name": "stdout",
     "output_type": "stream",
     "text": [
      "['Alcohol', 'Amphet', 'Amyl', 'Benzos', 'Caff', 'Cannabis', 'Choc', 'Coke', 'Crack', 'Ecstasy', 'Heroin', 'Ketamine', 'Legalh', 'LSD', 'Meth', 'Mushrooms', 'Nicotine', 'Semer', 'VSA']\n"
     ]
    }
   ],
   "source": [
    "drug_cols = drug.columns[13:].tolist(); print(drug_cols)"
   ]
  },
  {
   "cell_type": "markdown",
   "metadata": {},
   "source": [
    "---"
   ]
  },
  {
   "cell_type": "markdown",
   "metadata": {},
   "source": [
    "# Label Encoding Categories"
   ]
  },
  {
   "cell_type": "code",
   "execution_count": 203,
   "metadata": {},
   "outputs": [],
   "source": [
    "for col in drug.columns[1:6]:\n",
    "    LE = le().fit(list(legends[col].keys()))\n",
    "    drug[col] = LE.transform(drug[col])"
   ]
  },
  {
   "cell_type": "code",
   "execution_count": 204,
   "metadata": {},
   "outputs": [],
   "source": [
    "for col in drug.columns[13:]:\n",
    "    LE = le().fit(list(drug_categories_dict.keys()))\n",
    "    drug[col] = LE.transform(drug[col].astype(str))"
   ]
  },
  {
   "cell_type": "code",
   "execution_count": 1164,
   "metadata": {},
   "outputs": [
    {
     "data": {
      "text/html": [
       "<div>\n",
       "<style scoped>\n",
       "    .dataframe tbody tr th:only-of-type {\n",
       "        vertical-align: middle;\n",
       "    }\n",
       "\n",
       "    .dataframe tbody tr th {\n",
       "        vertical-align: top;\n",
       "    }\n",
       "\n",
       "    .dataframe thead th {\n",
       "        text-align: right;\n",
       "    }\n",
       "</style>\n",
       "<table border=\"1\" class=\"dataframe\">\n",
       "  <thead>\n",
       "    <tr style=\"text-align: right;\">\n",
       "      <th></th>\n",
       "      <th>ID</th>\n",
       "      <th>Age</th>\n",
       "      <th>Gender</th>\n",
       "      <th>Education</th>\n",
       "      <th>Country</th>\n",
       "      <th>Ethnicity</th>\n",
       "      <th>Nscore</th>\n",
       "      <th>Escore</th>\n",
       "      <th>Oscore</th>\n",
       "      <th>Ascore</th>\n",
       "      <th>...</th>\n",
       "      <th>Ecstasy</th>\n",
       "      <th>Heroin</th>\n",
       "      <th>Ketamine</th>\n",
       "      <th>Legalh</th>\n",
       "      <th>LSD</th>\n",
       "      <th>Meth</th>\n",
       "      <th>Mushrooms</th>\n",
       "      <th>Nicotine</th>\n",
       "      <th>Semer</th>\n",
       "      <th>VSA</th>\n",
       "    </tr>\n",
       "  </thead>\n",
       "  <tbody>\n",
       "    <tr>\n",
       "      <th>0</th>\n",
       "      <td>2</td>\n",
       "      <td>1</td>\n",
       "      <td>0</td>\n",
       "      <td>8</td>\n",
       "      <td>6</td>\n",
       "      <td>2</td>\n",
       "      <td>-0.67825</td>\n",
       "      <td>1.93886</td>\n",
       "      <td>1.43533</td>\n",
       "      <td>0.76096</td>\n",
       "      <td>...</td>\n",
       "      <td>4</td>\n",
       "      <td>0</td>\n",
       "      <td>2</td>\n",
       "      <td>0</td>\n",
       "      <td>2</td>\n",
       "      <td>3</td>\n",
       "      <td>0</td>\n",
       "      <td>4</td>\n",
       "      <td>0</td>\n",
       "      <td>0</td>\n",
       "    </tr>\n",
       "    <tr>\n",
       "      <th>1</th>\n",
       "      <td>3</td>\n",
       "      <td>2</td>\n",
       "      <td>0</td>\n",
       "      <td>5</td>\n",
       "      <td>6</td>\n",
       "      <td>2</td>\n",
       "      <td>-0.46725</td>\n",
       "      <td>0.80523</td>\n",
       "      <td>-0.84732</td>\n",
       "      <td>-1.62090</td>\n",
       "      <td>...</td>\n",
       "      <td>0</td>\n",
       "      <td>0</td>\n",
       "      <td>0</td>\n",
       "      <td>0</td>\n",
       "      <td>0</td>\n",
       "      <td>0</td>\n",
       "      <td>1</td>\n",
       "      <td>0</td>\n",
       "      <td>0</td>\n",
       "      <td>0</td>\n",
       "    </tr>\n",
       "    <tr>\n",
       "      <th>2</th>\n",
       "      <td>4</td>\n",
       "      <td>0</td>\n",
       "      <td>1</td>\n",
       "      <td>7</td>\n",
       "      <td>6</td>\n",
       "      <td>2</td>\n",
       "      <td>-0.14882</td>\n",
       "      <td>-0.80615</td>\n",
       "      <td>-0.01928</td>\n",
       "      <td>0.59042</td>\n",
       "      <td>...</td>\n",
       "      <td>0</td>\n",
       "      <td>0</td>\n",
       "      <td>2</td>\n",
       "      <td>0</td>\n",
       "      <td>0</td>\n",
       "      <td>0</td>\n",
       "      <td>0</td>\n",
       "      <td>2</td>\n",
       "      <td>0</td>\n",
       "      <td>0</td>\n",
       "    </tr>\n",
       "    <tr>\n",
       "      <th>3</th>\n",
       "      <td>5</td>\n",
       "      <td>2</td>\n",
       "      <td>1</td>\n",
       "      <td>8</td>\n",
       "      <td>6</td>\n",
       "      <td>2</td>\n",
       "      <td>0.73545</td>\n",
       "      <td>-1.63340</td>\n",
       "      <td>-0.45174</td>\n",
       "      <td>-0.30172</td>\n",
       "      <td>...</td>\n",
       "      <td>1</td>\n",
       "      <td>0</td>\n",
       "      <td>0</td>\n",
       "      <td>1</td>\n",
       "      <td>0</td>\n",
       "      <td>0</td>\n",
       "      <td>2</td>\n",
       "      <td>2</td>\n",
       "      <td>0</td>\n",
       "      <td>0</td>\n",
       "    </tr>\n",
       "    <tr>\n",
       "      <th>4</th>\n",
       "      <td>6</td>\n",
       "      <td>5</td>\n",
       "      <td>1</td>\n",
       "      <td>3</td>\n",
       "      <td>5</td>\n",
       "      <td>2</td>\n",
       "      <td>-0.67825</td>\n",
       "      <td>-0.30033</td>\n",
       "      <td>-1.55521</td>\n",
       "      <td>2.03972</td>\n",
       "      <td>...</td>\n",
       "      <td>0</td>\n",
       "      <td>0</td>\n",
       "      <td>0</td>\n",
       "      <td>0</td>\n",
       "      <td>0</td>\n",
       "      <td>0</td>\n",
       "      <td>0</td>\n",
       "      <td>6</td>\n",
       "      <td>0</td>\n",
       "      <td>0</td>\n",
       "    </tr>\n",
       "  </tbody>\n",
       "</table>\n",
       "<p>5 rows × 32 columns</p>\n",
       "</div>"
      ],
      "text/plain": [
       "  ID  Age  Gender  Education  Country  Ethnicity   Nscore   Escore   Oscore  \\\n",
       "0  2    1       0          8        6          2 -0.67825  1.93886  1.43533   \n",
       "1  3    2       0          5        6          2 -0.46725  0.80523 -0.84732   \n",
       "2  4    0       1          7        6          2 -0.14882 -0.80615 -0.01928   \n",
       "3  5    2       1          8        6          2  0.73545 -1.63340 -0.45174   \n",
       "4  6    5       1          3        5          2 -0.67825 -0.30033 -1.55521   \n",
       "\n",
       "    Ascore  ...  Ecstasy  Heroin  Ketamine  Legalh  LSD  Meth  Mushrooms  \\\n",
       "0  0.76096  ...        4       0         2       0    2     3          0   \n",
       "1 -1.62090  ...        0       0         0       0    0     0          1   \n",
       "2  0.59042  ...        0       0         2       0    0     0          0   \n",
       "3 -0.30172  ...        1       0         0       1    0     0          2   \n",
       "4  2.03972  ...        0       0         0       0    0     0          0   \n",
       "\n",
       "   Nicotine  Semer  VSA  \n",
       "0         4      0    0  \n",
       "1         0      0    0  \n",
       "2         2      0    0  \n",
       "3         2      0    0  \n",
       "4         6      0    0  \n",
       "\n",
       "[5 rows x 32 columns]"
      ]
     },
     "execution_count": 1164,
     "metadata": {},
     "output_type": "execute_result"
    }
   ],
   "source": [
    "drug.head()"
   ]
  },
  {
   "cell_type": "markdown",
   "metadata": {},
   "source": [
    "---"
   ]
  },
  {
   "cell_type": "markdown",
   "metadata": {},
   "source": [
    "# Feature Engineering"
   ]
  },
  {
   "cell_type": "markdown",
   "metadata": {},
   "source": [
    "### Binary Category Conversion"
   ]
  },
  {
   "cell_type": "code",
   "execution_count": null,
   "metadata": {},
   "outputs": [],
   "source": [
    "for col in drug.columns[13:]:    \n",
    "#    drug[col+' ever'] = [0 if a!='CL0' else 1 for a in drug[col]]\n",
    "#    drug[col+' ever'] = [0 if a in ['CL0'] else 1 for a in drug[col]]\n",
    "    pass"
   ]
  },
  {
   "cell_type": "markdown",
   "metadata": {},
   "source": [
    "---"
   ]
  },
  {
   "cell_type": "markdown",
   "metadata": {},
   "source": [
    "# Torch Dataset Class"
   ]
  },
  {
   "cell_type": "code",
   "execution_count": 1210,
   "metadata": {},
   "outputs": [],
   "source": [
    "# Define the class XOR_Data\n",
    "\n",
    "class Load_Data(Dataset):\n",
    "    \n",
    "    # Constructor\n",
    "    # N_s is the size of the dataset\n",
    "    def __init__(self, x, y):\n",
    "        # Create a N_s by 2 array for the X values representing the coordinates\n",
    "        self.x = torch.Tensor(x)\n",
    "        # Create a N_s by 1 array for the class the X value belongs to\n",
    "        self.y = torch.Tensor(y)\n",
    "    \n",
    "        self.len = y.size\n",
    "\n",
    "    # Getter\n",
    "    def __getitem__(self, index):    \n",
    "        return self.x[index], self.y[index]\n",
    "    \n",
    "    # Get Length\n",
    "    def __len__(self):\n",
    "        return self.len\n",
    "    \n",
    "    # Plot the data\n",
    "    def plot_2d(self, xy=[0,1], alpha=0.5):\n",
    "        \n",
    "        plt.plot(self.x[self.y[:, 0] == 0, xy[0]].numpy(),\n",
    "                 self.x[self.y[:, 0] == 0, xy[1]].numpy(), 'o', label=\"y=0\", alpha=alpha)\n",
    "        plt.plot(self.x[self.y[:, 0] == 1, xy[0]].numpy(),\n",
    "                 self.x[self.y[:, 0] == 1, xy[1]].numpy(), 'ro', label=\"y=1\", alpha=alpha)\n",
    "        plt.legend(); plt.grid(); plt.show()\n",
    "    \n",
    "    def plot_3d(self, xyz=[0,1,2], angles=range(0, 360, 12), angle_factor=8, alpha=0.6, figsize=(6,4)):\n",
    "        \n",
    "        for angle in angles:\n",
    "            \n",
    "            fig = plt.figure(figsize=figsize)\n",
    "            ax = fig.add_subplot(projection='3d')\n",
    "            ax.scatter(self.x[self.y[:, 0]==0, xyz[0]],\n",
    "                       self.x[self.y[:, 0]==0, xyz[1]],\n",
    "                       self.x[self.y[:, 0]==0, xyz[2]], 'o', alpha=alpha)\n",
    "\n",
    "            ax.scatter(self.x[self.y[:, 0]==1, xyz[0]],\n",
    "                       self.x[self.y[:, 0]==1, xyz[1]],\n",
    "                       self.x[self.y[:, 0]==1, xyz[2]], 'ro', alpha=alpha)\n",
    "\n",
    "            fig.tight_layout()\n",
    "            \n",
    "            ax.view_init(angle/angle_factor, angle)\n",
    "            plt.show()\n",
    "            plt.pause(0.001)\n",
    "            clear_output(wait=True)\n",
    " "
   ]
  },
  {
   "cell_type": "markdown",
   "metadata": {},
   "source": [
    "# Modeling"
   ]
  },
  {
   "cell_type": "markdown",
   "metadata": {},
   "source": [
    "### Neural Net with One Hidden Layer"
   ]
  },
  {
   "cell_type": "code",
   "execution_count": 941,
   "metadata": {},
   "outputs": [],
   "source": [
    "# Define the class Net with one hidden layer \n",
    "\n",
    "class Neural_Net(nn.Module):\n",
    "    \n",
    "    # Constructor\n",
    "    def __init__(self, D_in, H, D_out):\n",
    "        super(Neural_Net, self).__init__()\n",
    "        # D_in is the input size of the first layer (size of input layer)\n",
    "        # H is the output size of the first layer and the input size of the second layer (size of hidden layer)\n",
    "        # D_out is the output size of the second layer (size of output layer)\n",
    "        self.linear1 = nn.Linear(D_in, H)\n",
    "        self.linear2 = nn.Linear(H, D_out)\n",
    "\n",
    "    # Prediction    \n",
    "    def forward(self, x):\n",
    "        # Puts x through first layer then sigmoid function\n",
    "        x = torch.sigmoid(self.linear1(x)) \n",
    "        # Puts result of previous line through second layer then sigmoid function\n",
    "        x = torch.sigmoid(self.linear2(x))\n",
    "        # Output is a number between 0 and 1 due to the sigmoid function. Whichever the output is closer to, 0 or 1, is the class prediction\n",
    "        return x"
   ]
  },
  {
   "cell_type": "markdown",
   "metadata": {},
   "source": [
    "### Neural Net with \"N\" Hidden Layer"
   ]
  },
  {
   "cell_type": "code",
   "execution_count": 1100,
   "metadata": {},
   "outputs": [],
   "source": [
    "# Create dataset object\n",
    "\n",
    "class Neural_Net(nn.Module):\n",
    "    \n",
    "    # Constructor\n",
    "    # Given a list of integers, Layers, we create layers of the neural network where each integer in Layers corresponds to the layers number of neurons\n",
    "    def __init__(self, Layers):\n",
    "        \n",
    "        super(Neural_Net, self).__init__()\n",
    "        \n",
    "        self.hidden = nn.ModuleList()\n",
    "        for input_size, output_size in zip(Layers[:-1], Layers[1:]):\n",
    "            self.hidden.append(nn.Linear(input_size, output_size))\n",
    "    \n",
    "    # Prediction\n",
    "    # Puts the X value through each layer of the neural network while using the RELU activation function in between. The final output is not put through RELU.\n",
    "    def forward(self, x, activation='sigmoid'):\n",
    "        L = len(self.hidden)\n",
    "        for (l, linear_transform) in zip(range(L), self.hidden):\n",
    "            \n",
    "            if l < L - 1:                \n",
    "                if activation=='relu': x = F.relu(linear_transform(x))    \n",
    "                elif activation=='sigmoid': x = torch.sigmoid(linear_transform(x))    \n",
    "\n",
    "            else: x = torch.sigmoid(linear_transform(x))\n",
    "        \n",
    "        return x"
   ]
  },
  {
   "cell_type": "code",
   "execution_count": 1101,
   "metadata": {},
   "outputs": [],
   "source": [
    "# Calculate the accuracy\n",
    "\n",
    "def accuracy(model, data_set):\n",
    "    # Rounds prediction to nearest integer 0 or 1\n",
    "    # Checks if prediction matches the actual values and returns accuracy rate\n",
    "    return np.mean(data_set.y.view(-1).numpy() == (model(data_set.x)[:, 0] > 0.5).numpy())"
   ]
  },
  {
   "cell_type": "markdown",
   "metadata": {},
   "source": [
    "Define a function to train the model:\n"
   ]
  },
  {
   "cell_type": "code",
   "execution_count": 1219,
   "metadata": {},
   "outputs": [],
   "source": [
    "# Function to Train the Model\n",
    "\n",
    "def train(data_set, model, criterion, train_loader, optimizer, epochs=5, test_data=None):\n",
    "    \n",
    "    COST = []; ACC = []; test_ACC = []\n",
    "    for epoch in range(epochs):\n",
    "        \n",
    "        clear_output(wait=True); print(f'Epoch: {epoch+1}/{epochs}')        \n",
    "        total_loss=0\n",
    "        for x, y in train_loader:\n",
    "\n",
    "            optimizer.zero_grad()\n",
    "            yhat = model(x)\n",
    "            loss = criterion(yhat, y)\n",
    "            loss.backward()\n",
    "            optimizer.step()\n",
    "            \n",
    "            total_loss+=loss.item()\n",
    "\n",
    "        ACC.append(accuracy(model, data_set))\n",
    "        COST.append(total_loss)\n",
    "\n",
    "# ------------------ Validation Data ---------\n",
    "\n",
    "        if type(test_data)!=type(None): test_ACC.append(accuracy(model, test_data))    \n",
    "        \n",
    "# ------------ Result Visualization -------------\n",
    "\n",
    "    # Prints Cost vs Epoch graph\n",
    "    fig, ax1 = plt.subplots()\n",
    "    color = 'tab:red'\n",
    "    ax1.plot(COST, color=color)\n",
    "    ax1.set_xlabel('epoch', color=color)\n",
    "    ax1.set_ylabel('total loss', color=color)\n",
    "    ax1.tick_params(axis='y', color=color)\n",
    "    \n",
    "    # Prints Accuracy vs Epoch graph\n",
    "    ax2 = ax1.twinx()  \n",
    "    color = 'tab:blue'\n",
    "    ax2.set_ylabel('accuracy', color=color)  # we already handled the x-label with ax1\n",
    "    ax2.plot(ACC, color=color)\n",
    "    ax2.tick_params(axis='y', color=color)\n",
    "\n",
    "    if type(test_data)!=type(None):\n",
    "        \n",
    "        fig2, ax3 = plt.subplots()\n",
    "        color = 'tab:green'\n",
    "        ax3.plot(test_ACC, color=color)\n",
    "        ax3.set_xlabel('epoch', color=color)\n",
    "        ax3.set_ylabel('test_acc', color=color)\n",
    "        ax3.tick_params(axis='y', color=color)\n",
    "        fig2.tight_layout()\n",
    "        \n",
    "    fig.tight_layout()  # otherwise the right y-label is slightly clipped\n",
    "    plt.show()\n",
    "\n",
    "    return COST"
   ]
  },
  {
   "cell_type": "code",
   "execution_count": 1161,
   "metadata": {},
   "outputs": [],
   "source": [
    "# Plot the data\n",
    "\n",
    "def plot_decision_regions_2class(model,data_set):\n",
    "    cmap_light = ListedColormap(['#FFAAAA', '#AAFFAA', '#00AAFF'])\n",
    "    cmap_bold = ListedColormap(['#FF0000', '#00FF00', '#00AAFF'])\n",
    "    X = data_set.x.numpy()\n",
    "    y = data_set.y.numpy()\n",
    "    h = .02\n",
    "    x_min, x_max = X[:, 0].min() - 0.1 , X[:, 0].max() + 0.1 \n",
    "    y_min, y_max = X[:, 1].min() - 0.1 , X[:, 1].max() + 0.1 \n",
    "    xx, yy = np.meshgrid(np.arange(x_min, x_max, h),np.arange(y_min, y_max, h))\n",
    "    XX = torch.Tensor(np.c_[xx.ravel(), yy.ravel()])\n",
    "\n",
    "    yhat = np.logical_not((model(XX)[:, 0] > 0.5).numpy()).reshape(xx.shape)\n",
    "    plt.pcolormesh(xx, yy, yhat, cmap=cmap_light, shading='auto')\n",
    "    plt.plot(X[y[:, 0] == 0, 0], X[y[:, 0] == 0, 1], 'o', label='y=0')\n",
    "    plt.plot(X[y[:, 0] == 1, 0], X[y[:, 0] == 1, 1], 'ro', label='y=1')\n",
    "    plt.title(\"decision region\")\n",
    "    plt.legend()"
   ]
  },
  {
   "cell_type": "markdown",
   "metadata": {},
   "source": [
    "## Loading Data"
   ]
  },
  {
   "cell_type": "code",
   "execution_count": 1206,
   "metadata": {},
   "outputs": [
    {
     "name": "stdout",
     "output_type": "stream",
     "text": [
      "Target Classes Count:\n"
     ]
    },
    {
     "data": {
      "text/html": [
       "<div>\n",
       "<style scoped>\n",
       "    .dataframe tbody tr th:only-of-type {\n",
       "        vertical-align: middle;\n",
       "    }\n",
       "\n",
       "    .dataframe tbody tr th {\n",
       "        vertical-align: top;\n",
       "    }\n",
       "\n",
       "    .dataframe thead th {\n",
       "        text-align: right;\n",
       "    }\n",
       "</style>\n",
       "<table border=\"1\" class=\"dataframe\">\n",
       "  <thead>\n",
       "    <tr style=\"text-align: right;\">\n",
       "      <th></th>\n",
       "      <th>Original</th>\n",
       "      <th>Training</th>\n",
       "      <th>Testing</th>\n",
       "    </tr>\n",
       "  </thead>\n",
       "  <tbody>\n",
       "    <tr>\n",
       "      <th>Class 0</th>\n",
       "      <td>1020</td>\n",
       "      <td>700</td>\n",
       "      <td>100</td>\n",
       "    </tr>\n",
       "    <tr>\n",
       "      <th>Class 1</th>\n",
       "      <td>113</td>\n",
       "      <td>81</td>\n",
       "      <td>16</td>\n",
       "    </tr>\n",
       "    <tr>\n",
       "      <th>Class 2</th>\n",
       "      <td>234</td>\n",
       "      <td>187</td>\n",
       "      <td>30</td>\n",
       "    </tr>\n",
       "    <tr>\n",
       "      <th>Class 3</th>\n",
       "      <td>277</td>\n",
       "      <td>241</td>\n",
       "      <td>24</td>\n",
       "    </tr>\n",
       "    <tr>\n",
       "      <th>Class 4</th>\n",
       "      <td>156</td>\n",
       "      <td>126</td>\n",
       "      <td>18</td>\n",
       "    </tr>\n",
       "    <tr>\n",
       "      <th>Class 5</th>\n",
       "      <td>63</td>\n",
       "      <td>50</td>\n",
       "      <td>7</td>\n",
       "    </tr>\n",
       "    <tr>\n",
       "      <th>Class 6</th>\n",
       "      <td>21</td>\n",
       "      <td>15</td>\n",
       "      <td>5</td>\n",
       "    </tr>\n",
       "  </tbody>\n",
       "</table>\n",
       "</div>"
      ],
      "text/plain": [
       "         Original  Training  Testing\n",
       "Class 0      1020       700      100\n",
       "Class 1       113        81       16\n",
       "Class 2       234       187       30\n",
       "Class 3       277       241       24\n",
       "Class 4       156       126       18\n",
       "Class 5        63        50        7\n",
       "Class 6        21        15        5"
      ]
     },
     "metadata": {},
     "output_type": "display_data"
    },
    {
     "name": "stdout",
     "output_type": "stream",
     "text": [
      "\n",
      "No Information Leaked to the Testing Set.\n"
     ]
    }
   ],
   "source": [
    "train_set, test_set = binary_sample(  drug, target, categories=[[0], [1,2,3,4,5,6]],\n",
    "                                      testing=[100, 100], training=[700, 700],\n",
    "                                      fill_train_1=False, equal_train_0=False,\n",
    "                                      test_set=None, print_shapes=False, invert=False, path=None\n",
    "                                   )"
   ]
  },
  {
   "cell_type": "code",
   "execution_count": 1232,
   "metadata": {},
   "outputs": [],
   "source": [
    "target=['Ecstasy', 'Cannabis'][1]\n",
    "\n",
    "#Y = ((drug[[target]]!=0)+0).values.copy()\n",
    "#X = drug[drug.columns[[1,2,3,4,5,6,7,8,9,10,11,12]]].values.copy()\n",
    "\n",
    "Y = ((train_set[[target]]!=0)+0).values.copy()\n",
    "X = train_set[train_set.columns[range(1,13)]].values.copy()\n",
    "\n",
    "Y_test = ((test_set[[target]]!=0)+0).values.copy()\n",
    "X_test = test_set[test_set.columns[range(1,13)]].values.copy()\n",
    "\n",
    "data = Load_Data(X, Y)\n",
    "test_data = Load_Data(X_test, Y_test)"
   ]
  },
  {
   "cell_type": "code",
   "execution_count": null,
   "metadata": {},
   "outputs": [],
   "source": [
    "data.plot_2d([0,1], alpha=.7); # test_data.plot_2d([0,1])\n",
    "\n",
    "test_data.plot_3d(angle_factor=24, alpha=0.3, figsize=(6,5))"
   ]
  },
  {
   "cell_type": "markdown",
   "metadata": {},
   "source": [
    "## Building Model"
   ]
  },
  {
   "cell_type": "code",
   "execution_count": 1215,
   "metadata": {},
   "outputs": [
    {
     "data": {
      "text/plain": [
       "<torch._C.Generator at 0x21ff07dba90>"
      ]
     },
     "execution_count": 1215,
     "metadata": {},
     "output_type": "execute_result"
    }
   ],
   "source": [
    "torch.manual_seed(0)"
   ]
  },
  {
   "cell_type": "code",
   "execution_count": 1233,
   "metadata": {},
   "outputs": [
    {
     "data": {
      "text/plain": [
       "[12, 36, 36, 36, 1]"
      ]
     },
     "execution_count": 1233,
     "metadata": {},
     "output_type": "execute_result"
    }
   ],
   "source": [
    "n_categories = len(np.unique(data.y))\n",
    "n_features = len(data.x[0])\n",
    "\n",
    "Layers = [n_features] + [n_features*3]*3 + [n_categories-1]\n",
    "#Layers = [3,50,1]\n",
    "Layers"
   ]
  },
  {
   "cell_type": "code",
   "execution_count": 1234,
   "metadata": {},
   "outputs": [
    {
     "data": {
      "image/png": "[encoded data removed]",
      "text/plain": [
       "<Figure size 432x288 with 1 Axes>"
      ]
     },
     "metadata": {
      "needs_background": "light"
     },
     "output_type": "display_data"
    }
   ],
   "source": [
    "model = Neural_Net(Layers)\n",
    "#model = Neural_Net(n_features, 36, n_categories-1)\n",
    "yhat = model(data.x)\n",
    "plt.hist(yhat.detach().numpy()); plt.show()"
   ]
  },
  {
   "cell_type": "markdown",
   "metadata": {},
   "source": [
    "## Training Model"
   ]
  },
  {
   "cell_type": "code",
   "execution_count": 1235,
   "metadata": {},
   "outputs": [
    {
     "name": "stdout",
     "output_type": "stream",
     "text": [
      "Epoch: 50/50\n"
     ]
    },
    {
     "data": {
      "image/png": "[encoded data removed]",
      "text/plain": [
       "<Figure size 432x288 with 2 Axes>"
      ]
     },
     "metadata": {
      "needs_background": "light"
     },
     "output_type": "display_data"
    },
    {
     "data": {
      "image/png": "[encoded data removed]",
      "text/plain": [
       "<Figure size 432x288 with 1 Axes>"
      ]
     },
     "metadata": {
      "needs_background": "light"
     },
     "output_type": "display_data"
    }
   ],
   "source": [
    "# Train the model\n",
    "learning_rate = 0.1\n",
    "\n",
    "# We create a criterion which will measure loss\n",
    "criterion = nn.BCELoss()\n",
    "\n",
    "# Create an optimizer that updates model parameters using the learning rate and gradient\n",
    "optimizer = torch.optim.SGD(model.parameters(), lr=learning_rate)\n",
    "\n",
    "# Create a Data Loader for the training data with a batch size of 1 \n",
    "train_loader = DataLoader(dataset=data, batch_size=1)\n",
    "test_loader = DataLoader(dataset=test_data, batch_size=1)\n",
    "\n",
    "# Using the training function train the model on 500 epochs\n",
    "LOSS = train(data, model, criterion, train_loader, optimizer, epochs=50, test_data=test_data)"
   ]
  },
  {
   "cell_type": "code",
   "execution_count": null,
   "metadata": {},
   "outputs": [],
   "source": [
    "# Plot the data with decision boundaries\n",
    "plot_decision_regions_2class(model, data)"
   ]
  },
  {
   "cell_type": "markdown",
   "metadata": {},
   "source": [
    "<!--Empty Space for separating topics-->\n"
   ]
  }
 ],
 "metadata": {
  "kernelspec": {
   "display_name": "Python 3",
   "language": "python",
   "name": "python3"
  },
  "language_info": {
   "codemirror_mode": {
    "name": "ipython",
    "version": 3
   },
   "file_extension": ".py",
   "mimetype": "text/x-python",
   "name": "python",
   "nbconvert_exporter": "python",
   "pygments_lexer": "ipython3",
   "version": "3.8.3"
  }
 },
 "nbformat": 4,
 "nbformat_minor": 4
}
