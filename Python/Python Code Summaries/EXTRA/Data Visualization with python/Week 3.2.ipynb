{
 "cells": [
  {
   "cell_type": "code",
   "execution_count": null,
   "metadata": {},
   "outputs": [],
   "source": [
    "#    -folium.Map(location=[lat, long], zoom_start=, tiles= )\n",
    "\n",
    "#    -folium.map.FeatureGroup(),    -\n",
    "\n",
    "#    -\n",
    "\n",
    "#    -\n",
    "\n"
   ]
  },
  {
   "cell_type": "code",
   "execution_count": 31,
   "metadata": {},
   "outputs": [
    {
     "name": "stdout",
     "output_type": "stream",
     "text": [
      "Collecting package metadata (current_repodata.json): ...working... done\n",
      "Solving environment: ...working... done\n",
      "\n",
      "## Package Plan ##\n",
      "\n",
      "  environment location: C:\\Users\\luisr\\anaconda3\n",
      "\n",
      "  added / updated specs:\n",
      "    - folium=0.11.0\n",
      "\n",
      "\n",
      "The following packages will be downloaded:\n",
      "\n",
      "    package                    |            build\n",
      "    ---------------------------|-----------------\n",
      "    folium-0.11.0              |             py_0          61 KB  conda-forge\n",
      "    ------------------------------------------------------------\n",
      "                                           Total:          61 KB\n",
      "\n",
      "The following packages will be UPDATED:\n",
      "\n",
      "  folium                                         0.5.0-py_0 --> 0.11.0-py_0\n",
      "\n",
      "\n",
      "\n",
      "Downloading and Extracting Packages\n",
      "\n",
      "folium-0.11.0        | 61 KB     |            |   0% \n",
      "folium-0.11.0        | 61 KB     | ##6        |  26% \n",
      "folium-0.11.0        | 61 KB     | ########## | 100% \n",
      "folium-0.11.0        | 61 KB     | ########## | 100% \n",
      "Preparing transaction: ...working... done\n",
      "Verifying transaction: ...working... done\n",
      "Executing transaction: ...working... done\n",
      "Folium installed and imported!\n"
     ]
    }
   ],
   "source": [
    "!conda install -c conda-forge folium=0.11.0 --yes\n",
    "#import folium\n",
    "\n",
    "print('Folium installed and imported!')"
   ]
  },
  {
   "cell_type": "code",
   "execution_count": 37,
   "metadata": {},
   "outputs": [],
   "source": [
    "\n",
    "import requests # library to handle requests\n",
    "import pandas # library for data analsysis\n",
    "import numpy # library to handle data in a vectorized manner\n",
    "import random # library for random number generation\n",
    "\n",
    "# libraries for displaying images\n",
    "from IPython.display import Image \n",
    "from IPython.core.display import HTML \n",
    "\n",
    "# module to convert an address into latitude and longitude values\n",
    "from geopy.geocoders import Nominatim \n",
    "    \n",
    "# tranforming json file into a pandas dataframe library\n",
    "from pandas.io.json import json_normalize\n",
    "\n",
    "# map plotting library\n",
    "import folium \n",
    "\n"
   ]
  },
  {
   "cell_type": "code",
   "execution_count": 43,
   "metadata": {},
   "outputs": [
    {
     "data": {
      "text/plain": [
       "(-22.8606097, -43.2737506)"
      ]
     },
     "execution_count": 43,
     "metadata": {},
     "output_type": "execute_result"
    }
   ],
   "source": [
    "\n",
    "geolocator = Nominatim(user_agent = 'Luis Resende')\n",
    "\n",
    "address = 'Complexo do Alemão, RJ'\n",
    "location = geolocator.geocode(address)\n",
    "\n",
    "lat = location.latitude\n",
    "lng = location.longitude\n",
    "\n",
    "lat,lng"
   ]
  },
  {
   "cell_type": "code",
   "execution_count": 19,
   "metadata": {},
   "outputs": [],
   "source": [
    "popular_ale = pandas.read_csv('\\\\Users\\luisr\\\\popular_alemão.csv')\n"
   ]
  },
  {
   "cell_type": "code",
   "execution_count": 44,
   "metadata": {},
   "outputs": [],
   "source": [
    "\n",
    "mapa = folium.Map(location=[lat,lng], zoom_start=14)\n"
   ]
  },
  {
   "cell_type": "code",
   "execution_count": 35,
   "metadata": {},
   "outputs": [],
   "source": [
    "#   FORMA 1:\n",
    "\n",
    "marks = folium.map.FeatureGroup()\n",
    "\n",
    "\n",
    "for lat, long, name, cat in zip(popular_ale['lat'], popular_ale['lng'], popular_ale['name'], popular_ale['categories']):\n",
    "    \n",
    "    \n",
    "    marks.add_child(folium.features.CircleMarker([lat,long],\n",
    "                                                 radius=5,\n",
    "                                                 color='blue',\n",
    "                                                 popup=name+' ,'+cat,\n",
    "                                                 icon=None\n",
    "                                                ))\n",
    "\n",
    "#mapa.add_child(marks)   #Plot map auto\n",
    "\n",
    "\n",
    "\n",
    "\n"
   ]
  },
  {
   "cell_type": "code",
   "execution_count": 41,
   "metadata": {},
   "outputs": [],
   "source": [
    "#    FORMA 2:\n",
    "\n",
    "\n",
    "\n",
    "for lat, long, name, cat in zip(popular_ale['lat'], popular_ale['lng'], popular_ale['name'], popular_ale['categories']):\n",
    "    \n",
    "    \n",
    "    folium.Marker([lat,long], popup=name+' ,'+cat).add_to(mapa)\n",
    "    \n",
    "\n",
    "    \n",
    "    "
   ]
  },
  {
   "cell_type": "code",
   "execution_count": 45,
   "metadata": {},
   "outputs": [],
   "source": [
    "#    FORMA 3:\n",
    "\n",
    "\n",
    "for lat, long, name, cat in zip(popular_ale['lat'], popular_ale['lng'], popular_ale['name'], popular_ale['categories']):\n",
    "    \n",
    "    \n",
    "    folium.features.CircleMarker([lat, long],\n",
    "                                 radius=5,\n",
    "                                 color='blue',\n",
    "                                 popup=name+' ,'+cat\n",
    "                                ).add_to(mapa)\n"
   ]
  },
  {
   "cell_type": "code",
   "execution_count": null,
   "metadata": {},
   "outputs": [],
   "source": []
  },
  {
   "cell_type": "code",
   "execution_count": null,
   "metadata": {},
   "outputs": [],
   "source": []
  },
  {
   "cell_type": "code",
   "execution_count": null,
   "metadata": {},
   "outputs": [],
   "source": []
  },
  {
   "cell_type": "code",
   "execution_count": null,
   "metadata": {},
   "outputs": [],
   "source": []
  },
  {
   "cell_type": "code",
   "execution_count": null,
   "metadata": {},
   "outputs": [],
   "source": []
  },
  {
   "cell_type": "code",
   "execution_count": null,
   "metadata": {},
   "outputs": [],
   "source": []
  },
  {
   "cell_type": "code",
   "execution_count": null,
   "metadata": {},
   "outputs": [],
   "source": []
  },
  {
   "cell_type": "code",
   "execution_count": null,
   "metadata": {},
   "outputs": [],
   "source": []
  },
  {
   "cell_type": "code",
   "execution_count": null,
   "metadata": {},
   "outputs": [],
   "source": []
  },
  {
   "cell_type": "code",
   "execution_count": null,
   "metadata": {},
   "outputs": [],
   "source": []
  },
  {
   "cell_type": "code",
   "execution_count": null,
   "metadata": {},
   "outputs": [],
   "source": []
  },
  {
   "cell_type": "code",
   "execution_count": null,
   "metadata": {},
   "outputs": [],
   "source": []
  }
 ],
 "metadata": {
  "kernelspec": {
   "display_name": "Python 3",
   "language": "python",
   "name": "python3"
  },
  "language_info": {
   "codemirror_mode": {
    "name": "ipython",
    "version": 3
   },
   "file_extension": ".py",
   "mimetype": "text/x-python",
   "name": "python",
   "nbconvert_exporter": "python",
   "pygments_lexer": "ipython3",
   "version": "3.8.3"
  }
 },
 "nbformat": 4,
 "nbformat_minor": 4
}
