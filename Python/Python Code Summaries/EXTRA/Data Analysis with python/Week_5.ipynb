{
 "cells": [
  {
   "cell_type": "code",
   "execution_count": 1,
   "metadata": {},
   "outputs": [
    {
     "name": "stdout",
     "output_type": "stream",
     "text": [
      "Done !\n"
     ]
    }
   ],
   "source": [
    "import matplotlib.pyplot as plt\n",
    "%matplotlib inline\n",
    "\n",
    "import pandas\n",
    "\n",
    "\n",
    "aust=pandas.read_excel('australia.xlsx')       #  Reading dataframe from csv or xlsx file into 'aust'\n",
    "\n",
    "aust_ad=aust[aust['region']=='Adelaide '].copy()        #  Copying aust where region is 'Adelaide '\n",
    "\n",
    "x=aust_ad[['smoke']]\n",
    "y=aust_ad['unemp']\n",
    "\n",
    "print('Done !')\n",
    "\n"
   ]
  },
  {
   "cell_type": "code",
   "execution_count": null,
   "metadata": {},
   "outputs": [],
   "source": []
  },
  {
   "cell_type": "code",
   "execution_count": 2,
   "metadata": {},
   "outputs": [
    {
     "data": {
      "text/plain": [
       "LinearRegression()"
      ]
     },
     "execution_count": 2,
     "metadata": {},
     "output_type": "execute_result"
    }
   ],
   "source": [
    "\n",
    "from sklearn.linear_model import LinearRegression\n",
    "\n",
    "lr = LinearRegression()\n",
    "lr_n = LinearRegression()\n",
    "\n",
    "lr.fit(x, y)\n",
    "\n",
    "\n",
    "\n",
    "\n"
   ]
  },
  {
   "cell_type": "code",
   "execution_count": 3,
   "metadata": {},
   "outputs": [],
   "source": [
    "\n",
    "from sklearn.model_selection import train_test_split\n",
    "\n",
    "x_train, x_test, y_train, y_test = train_test_split(x, y, test_size=0.45, random_state=1)\n",
    "\n",
    "\n",
    "\n"
   ]
  },
  {
   "cell_type": "code",
   "execution_count": 4,
   "metadata": {},
   "outputs": [
    {
     "data": {
      "text/plain": [
       "0.8874341806680203"
      ]
     },
     "execution_count": 4,
     "metadata": {},
     "output_type": "execute_result"
    }
   ],
   "source": [
    "\n",
    "from sklearn.model_selection import cross_val_score, cross_val_predict\n",
    "import numpy\n",
    "\n",
    "\n",
    "scores = cross_val_score(lr, x, y, cv=3)        #  Returns array with 'cross. val. scrs.' for 'lr', 'x', 'y', 'cv'.\n",
    "\n",
    "cv_scr=numpy.mean(scores)\n",
    "\n",
    "cv_preds = cross_val_predict(lr, x, y, cv=3)\n",
    "\n",
    "#scores\n",
    "cv_scr\n",
    "#cv_preds\n",
    "\n",
    "\n"
   ]
  },
  {
   "cell_type": "code",
   "execution_count": 7,
   "metadata": {},
   "outputs": [
    {
     "name": "stdout",
     "output_type": "stream",
     "text": [
      "Best order: 1\n",
      "0 1 -25.358225462563563 -25.358225462563563\n"
     ]
    },
    {
     "data": {
      "image/png": "[encoded data removed]",
      "text/plain": [
       "<Figure size 432x288 with 1 Axes>"
      ]
     },
     "metadata": {
      "needs_background": "light"
     },
     "output_type": "display_data"
    }
   ],
   "source": [
    "from sklearn.preprocessing import PolynomialFeatures\n",
    "\n",
    "order=[i for i in range(1,100)]\n",
    "R_squared=[]\n",
    "\n",
    "\n",
    "for n in order:\n",
    "    \n",
    "    polyobj = PolynomialFeatures(degree = n)\n",
    "\n",
    "   # x_train_pr = polyobj.fit_transform(x_train)\n",
    "   # x_test_pr = polyobj.fit_transform(x_test)\n",
    "\n",
    "    \n",
    "    \n",
    "    lr_n.fit(x_train_pr, y_train)\n",
    "\n",
    "    R_squared.append(lr_n.score(x_test_pr, y_test))\n",
    "                     \n",
    "plt.plot(order, R_squared)\n",
    "plt.xlim(-1,50)\n",
    "plt.ylim(-5,1)\n",
    "\n",
    "pos=0\n",
    "for e in R_squared: \n",
    "    if e==max(R_squared): \n",
    "        print('Best order: '+str(order[pos])) \n",
    "        break\n",
    "    else: pos+=1\n",
    "        \n",
    "print(pos,order[pos],max(R_squared), R_squared[pos])\n",
    "\n",
    "                    \n",
    "                     "
   ]
  },
  {
   "cell_type": "code",
   "execution_count": 8,
   "metadata": {},
   "outputs": [
    {
     "data": {
      "text/plain": [
       "0.9355623468446834"
      ]
     },
     "execution_count": 8,
     "metadata": {},
     "output_type": "execute_result"
    }
   ],
   "source": [
    "from sklearn.linear_model import Ridge\n",
    "\n",
    "ridge_model = Ridge(alpha = 0.1, normalize=True)\n",
    "\n",
    "ridge_model.fit(x, y)\n",
    "\n",
    "ypred = ridge_model.predict(x)\n",
    "\n",
    "scr = ridge_model.score(x,y)\n",
    "\n",
    "#ypred\n",
    "scr\n",
    "\n"
   ]
  },
  {
   "cell_type": "code",
   "execution_count": 1,
   "metadata": {},
   "outputs": [
    {
     "ename": "NameError",
     "evalue": "name 'x_train_pr' is not defined",
     "output_type": "error",
     "traceback": [
      "\u001b[1;31m---------------------------------------------------------------------------\u001b[0m",
      "\u001b[1;31mNameError\u001b[0m                                 Traceback (most recent call last)",
      "\u001b[1;32m<ipython-input-1-d0411ee1c5b1>\u001b[0m in \u001b[0;36m<module>\u001b[1;34m\u001b[0m\n\u001b[0;32m      7\u001b[0m \u001b[0mgrid\u001b[0m \u001b[1;33m=\u001b[0m \u001b[0mGridSearchCV\u001b[0m\u001b[1;33m(\u001b[0m\u001b[0mRR\u001b[0m\u001b[1;33m,\u001b[0m \u001b[0mparam\u001b[0m\u001b[1;33m,\u001b[0m \u001b[0mcv\u001b[0m\u001b[1;33m=\u001b[0m\u001b[1;36m4\u001b[0m\u001b[1;33m)\u001b[0m\u001b[1;33m\u001b[0m\u001b[1;33m\u001b[0m\u001b[0m\n\u001b[0;32m      8\u001b[0m \u001b[1;33m\u001b[0m\u001b[0m\n\u001b[1;32m----> 9\u001b[1;33m \u001b[0mgrid\u001b[0m\u001b[1;33m.\u001b[0m\u001b[0mfit\u001b[0m\u001b[1;33m(\u001b[0m\u001b[0mx_train_pr\u001b[0m\u001b[1;33m,\u001b[0m\u001b[0my_train\u001b[0m\u001b[1;33m)\u001b[0m\u001b[1;33m\u001b[0m\u001b[1;33m\u001b[0m\u001b[0m\n\u001b[0m\u001b[0;32m     10\u001b[0m \u001b[1;33m\u001b[0m\u001b[0m\n\u001b[0;32m     11\u001b[0m \u001b[0mbestRR\u001b[0m\u001b[1;33m=\u001b[0m\u001b[0mgrid\u001b[0m\u001b[1;33m.\u001b[0m\u001b[0mbest_estimator_\u001b[0m\u001b[1;33m\u001b[0m\u001b[1;33m\u001b[0m\u001b[0m\n",
      "\u001b[1;31mNameError\u001b[0m: name 'x_train_pr' is not defined"
     ]
    }
   ],
   "source": [
    "from sklearn.model_selection import GridSearchCV\n",
    "from sklearn.linear_model import Ridge\n",
    "\n",
    "param = {'alpha': [0.001, 0.01, 0.1, 1, 10, 100, 1000, 10000, 100000, 1000000], 'normalize':[True, False]}\n",
    "RR = Ridge()\n",
    "\n",
    "grid = GridSearchCV(RR, param, cv=4)\n",
    "\n",
    "grid.fit(x_train_pr,y_train)\n",
    "\n",
    "bestRR=grid.best_estimator_\n",
    "results = grid.cv_results_\n",
    "\n",
    "print(bestRR)\n",
    "print(bestRR.score(x_train_pr,y_train))\n",
    "#print(bestRR.score(x_test_pr, y_test))\n",
    "\n",
    "\n",
    "params = results['params']\n",
    "train_scores = results['std_test_score']\n",
    "test_scores = results['mean_test_score']\n",
    "\n",
    "#for i in range(len(params)):\n",
    " #   print(params[i], train_scores[i], test_scores[i])\n",
    "\n",
    "#gs.best_estimator_\n",
    "#gs.cv_results_\n",
    "\n",
    "\n"
   ]
  },
  {
   "cell_type": "code",
   "execution_count": 5,
   "metadata": {},
   "outputs": [
    {
     "data": {
      "text/plain": [
       "0.8915576383401655"
      ]
     },
     "execution_count": 5,
     "metadata": {},
     "output_type": "execute_result"
    }
   ],
   "source": [
    "from sklearn.linear_model import Ridge\n",
    "\n",
    "\n",
    "ridge_model = Ridge(alpha = 0.1)\n",
    "\n",
    "ridge_model.fit(x_train, y_train)\n",
    "\n",
    "ypred = ridge_model.predict(x)\n",
    "\n",
    "scr_tr = ridge_model.score(x_train, y_train)\n",
    "scr_tst = ridge_model.score(x_test, y_test)\n",
    "#ypred\n",
    "scr_tr\n",
    "scr_tst\n"
   ]
  },
  {
   "cell_type": "code",
   "execution_count": null,
   "metadata": {},
   "outputs": [],
   "source": []
  }
 ],
 "metadata": {
  "kernelspec": {
   "display_name": "Python 3",
   "language": "python",
   "name": "python3"
  },
  "language_info": {
   "codemirror_mode": {
    "name": "ipython",
    "version": 3
   },
   "file_extension": ".py",
   "mimetype": "text/x-python",
   "name": "python",
   "nbconvert_exporter": "python",
   "pygments_lexer": "ipython3",
   "version": "3.8.3"
  }
 },
 "nbformat": 4,
 "nbformat_minor": 4
}
