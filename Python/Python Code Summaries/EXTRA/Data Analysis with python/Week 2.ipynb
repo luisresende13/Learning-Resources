{
 "cells": [
  {
   "cell_type": "code",
   "execution_count": null,
   "metadata": {},
   "outputs": [],
   "source": [
    "# DEALING WITH MISSING VALUES:    -dropna    -replace\n",
    "\n",
    "# DATA FORMATTING:    -rename    -dtypes    -astype\n",
    "\n",
    "# DATA NORMALIZATION:    -linspace    -cut\n",
    "\n",
    "# TURNING CATEGORICAL DATA INTO QUANTITATIVE DATA:    -get_dummies\n",
    "\n",
    "\n",
    "#EXTRA (LAB):    -isnull()    -notnull()    -reset_index    -pyplot.bar    -pyplot.hist"
   ]
  },
  {
   "cell_type": "code",
   "execution_count": 1,
   "metadata": {},
   "outputs": [],
   "source": [
    "#Importing Data Frames\n",
    "\n",
    "\n",
    "import pandas\n",
    "\n",
    "\n",
    "aust=pandas.read_excel('\\\\Users\\luisr\\Data_frames\\\\australia.xlsx')\n",
    "timeuse=pandas.read_csv('\\\\Users\\luisr\\Data_Frames\\\\timeuse.csv')\n",
    "cod=pandas.read_csv('\\\\Users\\luisr\\Data_Frames\\\\causesofdeath_france.csv')\n"
   ]
  },
  {
   "cell_type": "code",
   "execution_count": 16,
   "metadata": {},
   "outputs": [],
   "source": [
    "# Testing Space\n",
    "\n",
    "\n",
    "\n"
   ]
  },
  {
   "cell_type": "code",
   "execution_count": null,
   "metadata": {},
   "outputs": [],
   "source": [
    "\n",
    "\n",
    "###########  DEALING WITH MISSING VALUES ############\n",
    "\n"
   ]
  },
  {
   "cell_type": "code",
   "execution_count": 2,
   "metadata": {},
   "outputs": [],
   "source": [
    "# -dropna\n",
    "\n",
    "\n",
    "aust.dropna(subset = ['premort'], axis = 0, inplace = True)\n",
    "\n",
    "\n"
   ]
  },
  {
   "cell_type": "code",
   "execution_count": 7,
   "metadata": {},
   "outputs": [],
   "source": [
    "# -replace\n",
    "\n",
    "\n",
    "import numpy\n",
    "\n",
    "timeuse.replace(':', numpy.nan, inplace = True)\n"
   ]
  },
  {
   "cell_type": "code",
   "execution_count": null,
   "metadata": {},
   "outputs": [],
   "source": [
    "\n",
    "\n",
    "############  DATA FORMATTING  #############\n",
    "\n"
   ]
  },
  {
   "cell_type": "code",
   "execution_count": 13,
   "metadata": {},
   "outputs": [],
   "source": [
    "# -rename\n",
    "\n",
    "\n",
    "aust.rename(columns = {'name': 'names'}, inplace = True)\n"
   ]
  },
  {
   "cell_type": "code",
   "execution_count": 15,
   "metadata": {},
   "outputs": [],
   "source": [
    "# -dtypes\n",
    "\n",
    "#cod.dtypes"
   ]
  },
  {
   "cell_type": "code",
   "execution_count": 6,
   "metadata": {},
   "outputs": [],
   "source": [
    "# -astype\n",
    "\n",
    "\n",
    "cod['TIME'] = cod['TIME'].astype('str')\n",
    "\n",
    "### 'Object' type is sort of the same as 'str' type."
   ]
  },
  {
   "cell_type": "code",
   "execution_count": null,
   "metadata": {},
   "outputs": [],
   "source": [
    "\n",
    "\n",
    "##################  DATA NORMALIZATION   #####################\n",
    "\n"
   ]
  },
  {
   "cell_type": "code",
   "execution_count": 29,
   "metadata": {},
   "outputs": [
    {
     "data": {
      "text/plain": [
       "array([ 62.68265629, 152.27114075, 241.85962522, 331.44810969])"
      ]
     },
     "execution_count": 29,
     "metadata": {},
     "output_type": "execute_result"
    }
   ],
   "source": [
    "# -linspace\n",
    "\n",
    "\n",
    "M = aust['premort'].max()\n",
    "m = aust['premort'].min()\n",
    "\n",
    "\n",
    "\n",
    "bins = numpy.linspace(m, M, 4)\n",
    "bins"
   ]
  },
  {
   "cell_type": "code",
   "execution_count": 18,
   "metadata": {},
   "outputs": [
    {
     "ename": "NameError",
     "evalue": "name 'bins' is not defined",
     "output_type": "error",
     "traceback": [
      "\u001b[1;31m---------------------------------------------------------------------------\u001b[0m",
      "\u001b[1;31mNameError\u001b[0m                                 Traceback (most recent call last)",
      "\u001b[1;32m<ipython-input-18-56897c818e8f>\u001b[0m in \u001b[0;36m<module>\u001b[1;34m\u001b[0m\n\u001b[0;32m      1\u001b[0m \u001b[1;31m# -cut\u001b[0m\u001b[1;33m\u001b[0m\u001b[1;33m\u001b[0m\u001b[1;33m\u001b[0m\u001b[0m\n\u001b[0;32m      2\u001b[0m \u001b[1;33m\u001b[0m\u001b[0m\n\u001b[1;32m----> 3\u001b[1;33m \u001b[0mpremort_cut\u001b[0m \u001b[1;33m=\u001b[0m \u001b[0mpandas\u001b[0m\u001b[1;33m.\u001b[0m\u001b[0mcut\u001b[0m\u001b[1;33m(\u001b[0m\u001b[0maust\u001b[0m\u001b[1;33m[\u001b[0m\u001b[1;34m'premort'\u001b[0m\u001b[1;33m]\u001b[0m\u001b[1;33m,\u001b[0m \u001b[0mbins\u001b[0m\u001b[1;33m,\u001b[0m \u001b[0mlabels\u001b[0m\u001b[1;33m=\u001b[0m\u001b[1;33m[\u001b[0m\u001b[1;34m'low'\u001b[0m\u001b[1;33m,\u001b[0m \u001b[1;34m'medium'\u001b[0m\u001b[1;33m,\u001b[0m \u001b[1;34m'high'\u001b[0m\u001b[1;33m]\u001b[0m\u001b[1;33m,\u001b[0m \u001b[0minclude_lowest\u001b[0m\u001b[1;33m=\u001b[0m\u001b[1;32mTrue\u001b[0m\u001b[1;33m)\u001b[0m\u001b[1;33m\u001b[0m\u001b[1;33m\u001b[0m\u001b[0m\n\u001b[0m\u001b[0;32m      4\u001b[0m \u001b[1;33m\u001b[0m\u001b[0m\n\u001b[0;32m      5\u001b[0m \u001b[0maust\u001b[0m\u001b[1;33m[\u001b[0m\u001b[1;34m'premort_cut'\u001b[0m\u001b[1;33m]\u001b[0m \u001b[1;33m=\u001b[0m \u001b[0mpremort_cut\u001b[0m\u001b[1;33m\u001b[0m\u001b[1;33m\u001b[0m\u001b[0m\n",
      "\u001b[1;31mNameError\u001b[0m: name 'bins' is not defined"
     ]
    }
   ],
   "source": [
    "# -cut\n",
    "\n",
    "premort_cut = pandas.cut(aust['premort'], bins, labels=['low', 'medium', 'high'], include_lowest=True)\n",
    "\n",
    "aust['premort_cut'] = premort_cut\n",
    "#aust[['premort','premort_cut']]\n",
    "\n",
    "import matplotlib.pyplot  as plt\n",
    "\n",
    "#plt.bar(['low','medium','high'], aust['premort_cut'].value_counts())\n",
    "\n",
    "#plt.hist(aust['premort'])"
   ]
  },
  {
   "cell_type": "code",
   "execution_count": null,
   "metadata": {},
   "outputs": [],
   "source": [
    "\n",
    "\n",
    "#######################   TURNING CATEGORICAL DATA INTO QUANTITATIVE DATA   #########################\n",
    "\n"
   ]
  },
  {
   "cell_type": "code",
   "execution_count": 38,
   "metadata": {},
   "outputs": [],
   "source": [
    "# -get_dummies\n",
    "\n",
    "\n",
    "dumm = pandas.get_dummies(cod['ICD10'])\n",
    "\n",
    "#dumm"
   ]
  },
  {
   "cell_type": "code",
   "execution_count": null,
   "metadata": {},
   "outputs": [],
   "source": [
    "\n",
    "\n",
    "######################   EXTRAS   ############################\n",
    "\n",
    "\n"
   ]
  },
  {
   "cell_type": "code",
   "execution_count": 17,
   "metadata": {},
   "outputs": [],
   "source": [
    "# -isnull() -notnull()\n",
    "\n",
    "\n",
    "timenull = timeuse.isnull()\n",
    "\n",
    "#for column in timenull.columns.values.tolist():\n",
    "    \n",
    "    #print(column)\n",
    "    #print(timenull[column].value_counts())\n",
    "    #print('')"
   ]
  },
  {
   "cell_type": "code",
   "execution_count": 13,
   "metadata": {},
   "outputs": [],
   "source": [
    "# -reset_index()\n",
    "\n",
    "\n",
    "\n",
    "timeuse.reset_index(drop=True, inplace=True)\n",
    "\n",
    "\n",
    "#Drop=True avoids setting old index as column\n",
    "#because lines were dropped."
   ]
  },
  {
   "cell_type": "code",
   "execution_count": null,
   "metadata": {},
   "outputs": [],
   "source": [
    "# -pyplot.bar\n",
    "\n",
    "\n",
    "import matplotlib.pyplot  as plt\n",
    "\n",
    "#plt.bar(['low','medium','high'], aust['premort_cut'].value_counts())"
   ]
  },
  {
   "cell_type": "code",
   "execution_count": null,
   "metadata": {},
   "outputs": [],
   "source": [
    "# -pyplot.hist\n",
    "\n",
    "\n",
    "import matplotlib.pyplot  as plt\n",
    "\n",
    "#plt.hist(aust['premort'])"
   ]
  }
 ],
 "metadata": {
  "kernelspec": {
   "display_name": "Python 3",
   "language": "python",
   "name": "python3"
  },
  "language_info": {
   "codemirror_mode": {
    "name": "ipython",
    "version": 3
   },
   "file_extension": ".py",
   "mimetype": "text/x-python",
   "name": "python",
   "nbconvert_exporter": "python",
   "pygments_lexer": "ipython3",
   "version": "3.8.3"
  }
 },
 "nbformat": 4,
 "nbformat_minor": 4
}
