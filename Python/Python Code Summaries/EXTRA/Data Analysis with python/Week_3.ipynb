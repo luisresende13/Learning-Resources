{
 "cells": [
  {
   "cell_type": "code",
   "execution_count": null,
   "metadata": {},
   "outputs": [],
   "source": [
    "# DESCRIPTIVE STATISTICS:    -describe()    -value_counts()    -boxplot    -scatter\n",
    " \n",
    "# GROUP-BY:   -groupby    -pivot    -pcolor (HeatMap)\n",
    "\n",
    "# CORRELATION:    -regplot\n",
    "\n",
    "# CORRELATION ADVANCED:    -pearsonr\n",
    "\n",
    "# ANOVA:    -f_oneway\n"
   ]
  },
  {
   "cell_type": "code",
   "execution_count": 1,
   "metadata": {},
   "outputs": [],
   "source": [
    "# Importing Data Frames\n",
    "\n",
    "\n",
    "import pandas\n",
    "\n",
    "aust=pandas.read_excel('\\\\Users\\luisr\\Data_frames\\\\australia.xlsx')\n",
    "timeuse=pandas.read_csv('\\\\Users\\luisr\\Data_Frames\\\\timeuse.csv')\n",
    "cod=pandas.read_csv('\\\\Users\\luisr\\Data_Frames\\\\causesofdeath_france.csv')\n",
    "\n",
    "\n"
   ]
  },
  {
   "cell_type": "code",
   "execution_count": 2,
   "metadata": {},
   "outputs": [],
   "source": [
    "# Data preparation #1\n",
    "\n",
    "\n",
    "import numpy\n",
    "\n",
    "# taking out from column 'Values' spaces and ':' chars. Then convert column to float.\n",
    "cod['Value'] = numpy.array([num.replace(' ', '') for num in cod['Value']])\n",
    "cod.replace(':', 0, inplace=True)\n",
    "cod['Value']=cod['Value'].astype('float')\n",
    "\n"
   ]
  },
  {
   "cell_type": "code",
   "execution_count": 25,
   "metadata": {},
   "outputs": [],
   "source": [
    "# Data preparation #2\n",
    "\n",
    "\n",
    "# Extracting categories 'Neoplasms', 'Malignant neoplasms (C00-C97)', 'Diseases of the circulatory system (I00-I99)'.\n",
    "cod_vals = cod[['ICD10', 'Value']].copy()\n",
    "\n",
    "neoplas = cod_vals[cod_vals['ICD10'] == 'Neoplasms'].copy()\n",
    "mal_neoplas = cod_vals[cod_vals['ICD10'] == 'Malignant neoplasms (C00-C97)'].copy()\n",
    "circ_sys = cod_vals[cod_vals['ICD10'] == 'Diseases of the circulatory system (I00-I99)'].copy()\n",
    "\n"
   ]
  },
  {
   "cell_type": "code",
   "execution_count": 29,
   "metadata": {},
   "outputs": [],
   "source": [
    "# Testing space\n",
    "\n",
    "\n"
   ]
  },
  {
   "cell_type": "code",
   "execution_count": null,
   "metadata": {},
   "outputs": [],
   "source": [
    "\n",
    "\n",
    "##############    DESCRIPTIVE STATISTICS    ##############\n",
    "\n"
   ]
  },
  {
   "cell_type": "code",
   "execution_count": 37,
   "metadata": {},
   "outputs": [],
   "source": [
    "# -decribe()\n",
    "\n",
    "\n",
    "#aust.describe()\n",
    "#timeuse.describe()\n",
    "#cod.describe(include = 'all')\n",
    "\n"
   ]
  },
  {
   "cell_type": "code",
   "execution_count": 26,
   "metadata": {},
   "outputs": [],
   "source": [
    "# -value_counts()  (CATEGORICAL DATA)\n",
    "\n",
    "\n",
    "countries_count=timeuse['GEO/ACL00'].value_counts().to_frame()\n",
    "\n",
    "\n",
    "countries_count.rename(columns={'GEO/ACL00' : 'Count'}, inplace=True)\n",
    "\n",
    "#countries_count\n"
   ]
  },
  {
   "cell_type": "code",
   "execution_count": 3,
   "metadata": {},
   "outputs": [
    {
     "data": {
      "text/plain": [
       "<matplotlib.axes._subplots.AxesSubplot at 0x1baae6f7670>"
      ]
     },
     "execution_count": 3,
     "metadata": {},
     "output_type": "execute_result"
    },
    {
     "data": {
      "image/png": "[encoded data removed]",
      "text/plain": [
       "<Figure size 432x288 with 1 Axes>"
      ]
     },
     "metadata": {
      "needs_background": "light"
     },
     "output_type": "display_data"
    }
   ],
   "source": [
    "# -boxplot\n",
    "\n",
    "\n",
    "import seaborn\n",
    "\n",
    "seaborn.boxplot(x='ICD10', y='Value', data=cod)\n",
    "\n",
    "\n"
   ]
  },
  {
   "cell_type": "code",
   "execution_count": 11,
   "metadata": {},
   "outputs": [],
   "source": [
    "# -scatter\n",
    "\n",
    "\n",
    "import matplotlib.pyplot as plt\n",
    "\n",
    "#plt.scatter(x = aust['smoke'], y = aust['unemp'])\n",
    "\n",
    "\n",
    "\n",
    "\n"
   ]
  },
  {
   "cell_type": "code",
   "execution_count": null,
   "metadata": {},
   "outputs": [],
   "source": [
    "\n",
    "\n",
    "#################   GROUP-BY   ##################\n",
    "\n"
   ]
  },
  {
   "cell_type": "code",
   "execution_count": 28,
   "metadata": {},
   "outputs": [],
   "source": [
    "# -Group-By \n",
    "\n",
    "\n",
    "import matplotlib.pyplot as plt\n",
    "\n",
    "# Grouping\n",
    "groups = cod[['SEX', 'ICD10', 'Value']].copy()\n",
    "groupped = groups.groupby(['SEX', 'ICD10'], as_index = False).mean()\n",
    "\n",
    "# Pivot (Transversing)\n",
    "pivot = groupped.pivot(index = 'SEX', columns = 'ICD10')\n",
    "\n",
    "# HeatMap\n",
    "#plt.pcolor(pivot, cmap='RdBu')\n",
    "#plt.colorbar\n"
   ]
  },
  {
   "cell_type": "code",
   "execution_count": null,
   "metadata": {},
   "outputs": [],
   "source": [
    "\n",
    "\n",
    "#############   CORRELATION   #############\n",
    "\n"
   ]
  },
  {
   "cell_type": "code",
   "execution_count": 31,
   "metadata": {},
   "outputs": [],
   "source": [
    "# regplot\n",
    "\n",
    "\n",
    "import seaborn\n",
    "\n",
    "#seaborn.regplot(x = 'unemp', y='premort', data=aust)"
   ]
  },
  {
   "cell_type": "code",
   "execution_count": null,
   "metadata": {},
   "outputs": [],
   "source": [
    "\n",
    "\n",
    "##############   PEARSON CORRELATION   #############\n",
    "\n"
   ]
  },
  {
   "cell_type": "code",
   "execution_count": 26,
   "metadata": {},
   "outputs": [
    {
     "name": "stdout",
     "output_type": "stream",
     "text": [
      "0.9999866926892081 1.9813182432506584e-33\n"
     ]
    }
   ],
   "source": [
    "# _pearsonr\n",
    "\n",
    "\n",
    "import scipy.stats\n",
    "\n",
    "coef,p_value = scipy.stats.pearsonr(neoplas['Value'], mal_neoplas['Value'])\n",
    "print(coef, p_value)\n",
    "\n",
    "\n",
    "# Strong correlation if pearson_coef close to one and p-value close to 0."
   ]
  },
  {
   "cell_type": "code",
   "execution_count": null,
   "metadata": {},
   "outputs": [],
   "source": [
    "\n",
    "\n",
    "################    ANOVA    ################\n",
    "\n"
   ]
  },
  {
   "cell_type": "code",
   "execution_count": 28,
   "metadata": {},
   "outputs": [],
   "source": [
    "# -f_oneway\n",
    "\n",
    "\n",
    "import scipy.stats\n",
    "\n",
    "# test1\n",
    "grp=cod[['ICD10', 'Value']].copy()\n",
    "\n",
    "groupped = grp.groupby(['ICD10'])\n",
    "\n",
    "anova1 = scipy.stats.f_oneway(groupped.get_group('Neoplasms')['Value'], groupped.get_group('Malignant neoplasms (C00-C97)')['Value'])\n",
    "\n",
    "\n",
    "# test2\n",
    "anova2 = scipy.stats.f_oneway(neoplas['Value'], mal_neoplas['Value'])\n",
    "\n",
    "\n",
    "#anova1\n",
    "#anova2\n",
    "\n",
    "\n",
    "\n",
    "# Values for different categories are similar if the f_score is large and p-value is low. \n",
    "\n",
    "# Strong correlation between categorical and other variables,\n",
    "# if f_score is high, and p-value is low.\n",
    "\n"
   ]
  },
  {
   "cell_type": "code",
   "execution_count": null,
   "metadata": {},
   "outputs": [],
   "source": []
  }
 ],
 "metadata": {
  "kernelspec": {
   "display_name": "Python 3",
   "language": "python",
   "name": "python3"
  },
  "language_info": {
   "codemirror_mode": {
    "name": "ipython",
    "version": 3
   },
   "file_extension": ".py",
   "mimetype": "text/x-python",
   "name": "python",
   "nbconvert_exporter": "python",
   "pygments_lexer": "ipython3",
   "version": "3.8.3"
  }
 },
 "nbformat": 4,
 "nbformat_minor": 4
}
