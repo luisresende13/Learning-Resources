{
 "cells": [
  {
   "cell_type": "code",
   "execution_count": 1,
   "metadata": {},
   "outputs": [],
   "source": [
    "%load_ext sql"
   ]
  },
  {
   "cell_type": "code",
   "execution_count": 2,
   "metadata": {},
   "outputs": [],
   "source": [
    "%sql ibm_db_sa://mpc82210:7rf3d7vvlfj%5Egf7d@dashdb-txn-sbox-yp-dal09-10.services.dal.bluemix.net:50000/BLUDB"
   ]
  },
  {
   "cell_type": "code",
   "execution_count": 37,
   "metadata": {},
   "outputs": [
    {
     "name": "stdout",
     "output_type": "stream",
     "text": [
      " * ibm_db_sa://mpc82210:***@dashdb-txn-sbox-yp-dal09-10.services.dal.bluemix.net:50000/BLUDB\n",
      "Done.\n"
     ]
    },
    {
     "data": {
      "text/html": [
       "<table>\n",
       "    <tr>\n",
       "        <th>dept_id_dep</th>\n",
       "        <th>dep_name</th>\n",
       "        <th>manager_id</th>\n",
       "        <th>loc_id</th>\n",
       "    </tr>\n",
       "    <tr>\n",
       "        <td>2        </td>\n",
       "        <td>Architect Group</td>\n",
       "        <td>30001    </td>\n",
       "        <td>L0001    </td>\n",
       "    </tr>\n",
       "    <tr>\n",
       "        <td>5        </td>\n",
       "        <td>Software Group</td>\n",
       "        <td>30002    </td>\n",
       "        <td>L0002    </td>\n",
       "    </tr>\n",
       "    <tr>\n",
       "        <td>7        </td>\n",
       "        <td>Design Team</td>\n",
       "        <td>30003    </td>\n",
       "        <td>L0003    </td>\n",
       "    </tr>\n",
       "</table>"
      ],
      "text/plain": [
       "[('2        ', 'Architect Group', '30001    ', 'L0001    '),\n",
       " ('5        ', 'Software Group', '30002    ', 'L0002    '),\n",
       " ('7        ', 'Design Team', '30003    ', 'L0003    ')]"
      ]
     },
     "execution_count": 37,
     "metadata": {},
     "output_type": "execute_result"
    }
   ],
   "source": [
    "%sql SELECT * FROM DEPARTMENTS"
   ]
  },
  {
   "cell_type": "code",
   "execution_count": 38,
   "metadata": {},
   "outputs": [
    {
     "name": "stdout",
     "output_type": "stream",
     "text": [
      " * ibm_db_sa://mpc82210:***@dashdb-txn-sbox-yp-dal09-10.services.dal.bluemix.net:50000/BLUDB\n",
      "Done.\n"
     ]
    },
    {
     "data": {
      "text/html": [
       "<table>\n",
       "    <tr>\n",
       "        <th>emp_id</th>\n",
       "        <th>f_name</th>\n",
       "        <th>l_name</th>\n",
       "        <th>ssn</th>\n",
       "        <th>b_date</th>\n",
       "        <th>sex</th>\n",
       "        <th>address</th>\n",
       "        <th>job_id</th>\n",
       "        <th>salary</th>\n",
       "        <th>manager_id</th>\n",
       "        <th>dep_id</th>\n",
       "    </tr>\n",
       "    <tr>\n",
       "        <td>E1001    </td>\n",
       "        <td>John</td>\n",
       "        <td>Thomas</td>\n",
       "        <td>123456   </td>\n",
       "        <td>1976-01-09</td>\n",
       "        <td>M</td>\n",
       "        <td>5631 Rice, OakPark,IL</td>\n",
       "        <td>100      </td>\n",
       "        <td>100000.00</td>\n",
       "        <td>30001    </td>\n",
       "        <td>2        </td>\n",
       "    </tr>\n",
       "    <tr>\n",
       "        <td>E1002    </td>\n",
       "        <td>Alice</td>\n",
       "        <td>James</td>\n",
       "        <td>123457   </td>\n",
       "        <td>1972-07-31</td>\n",
       "        <td>F</td>\n",
       "        <td>980 Berry ln, Elgin,IL</td>\n",
       "        <td>200      </td>\n",
       "        <td>80000.00</td>\n",
       "        <td>30002    </td>\n",
       "        <td>5        </td>\n",
       "    </tr>\n",
       "    <tr>\n",
       "        <td>E1003    </td>\n",
       "        <td>Steve</td>\n",
       "        <td>Wells</td>\n",
       "        <td>123458   </td>\n",
       "        <td>1980-08-10</td>\n",
       "        <td>M</td>\n",
       "        <td>291 Springs, Gary,IL</td>\n",
       "        <td>300      </td>\n",
       "        <td>50000.00</td>\n",
       "        <td>30002    </td>\n",
       "        <td>5        </td>\n",
       "    </tr>\n",
       "    <tr>\n",
       "        <td>E1004    </td>\n",
       "        <td>Santosh</td>\n",
       "        <td>Kumar</td>\n",
       "        <td>123459   </td>\n",
       "        <td>1985-07-20</td>\n",
       "        <td>M</td>\n",
       "        <td>511 Aurora Av, Aurora,IL</td>\n",
       "        <td>400      </td>\n",
       "        <td>60000.00</td>\n",
       "        <td>30004    </td>\n",
       "        <td>5        </td>\n",
       "    </tr>\n",
       "    <tr>\n",
       "        <td>E1005    </td>\n",
       "        <td>Ahmed</td>\n",
       "        <td>Hussain</td>\n",
       "        <td>123410   </td>\n",
       "        <td>1981-01-04</td>\n",
       "        <td>M</td>\n",
       "        <td>216 Oak Tree, Geneva,IL</td>\n",
       "        <td>500      </td>\n",
       "        <td>70000.00</td>\n",
       "        <td>30001    </td>\n",
       "        <td>2        </td>\n",
       "    </tr>\n",
       "    <tr>\n",
       "        <td>E1006    </td>\n",
       "        <td>Nancy</td>\n",
       "        <td>Allen</td>\n",
       "        <td>123411   </td>\n",
       "        <td>1978-02-06</td>\n",
       "        <td>F</td>\n",
       "        <td>111 Green Pl, Elgin,IL</td>\n",
       "        <td>600      </td>\n",
       "        <td>90000.00</td>\n",
       "        <td>30001    </td>\n",
       "        <td>2        </td>\n",
       "    </tr>\n",
       "    <tr>\n",
       "        <td>E1007    </td>\n",
       "        <td>Mary</td>\n",
       "        <td>Thomas</td>\n",
       "        <td>123412   </td>\n",
       "        <td>1975-05-05</td>\n",
       "        <td>F</td>\n",
       "        <td>100 Rose Pl, Gary,IL</td>\n",
       "        <td>650      </td>\n",
       "        <td>65000.00</td>\n",
       "        <td>30003    </td>\n",
       "        <td>7        </td>\n",
       "    </tr>\n",
       "    <tr>\n",
       "        <td>E1008    </td>\n",
       "        <td>Bharath</td>\n",
       "        <td>Gupta</td>\n",
       "        <td>123413   </td>\n",
       "        <td>1985-05-06</td>\n",
       "        <td>M</td>\n",
       "        <td>145 Berry Ln, Naperville,IL</td>\n",
       "        <td>660      </td>\n",
       "        <td>65000.00</td>\n",
       "        <td>30003    </td>\n",
       "        <td>7        </td>\n",
       "    </tr>\n",
       "    <tr>\n",
       "        <td>E1009    </td>\n",
       "        <td>Andrea</td>\n",
       "        <td>Jones</td>\n",
       "        <td>123414   </td>\n",
       "        <td>1990-07-09</td>\n",
       "        <td>F</td>\n",
       "        <td>120 Fall Creek, Gary,IL</td>\n",
       "        <td>234      </td>\n",
       "        <td>70000.00</td>\n",
       "        <td>30003    </td>\n",
       "        <td>7        </td>\n",
       "    </tr>\n",
       "    <tr>\n",
       "        <td>E1010    </td>\n",
       "        <td>Ann</td>\n",
       "        <td>Jacob</td>\n",
       "        <td>123415   </td>\n",
       "        <td>1982-03-30</td>\n",
       "        <td>F</td>\n",
       "        <td>111 Britany Springs,Elgin,IL</td>\n",
       "        <td>220      </td>\n",
       "        <td>70000.00</td>\n",
       "        <td>30004    </td>\n",
       "        <td>5        </td>\n",
       "    </tr>\n",
       "</table>"
      ],
      "text/plain": [
       "[('E1001    ', 'John', 'Thomas', '123456   ', datetime.date(1976, 1, 9), 'M', '5631 Rice, OakPark,IL', '100      ', Decimal('100000.00'), '30001    ', '2        '),\n",
       " ('E1002    ', 'Alice', 'James', '123457   ', datetime.date(1972, 7, 31), 'F', '980 Berry ln, Elgin,IL', '200      ', Decimal('80000.00'), '30002    ', '5        '),\n",
       " ('E1003    ', 'Steve', 'Wells', '123458   ', datetime.date(1980, 8, 10), 'M', '291 Springs, Gary,IL', '300      ', Decimal('50000.00'), '30002    ', '5        '),\n",
       " ('E1004    ', 'Santosh', 'Kumar', '123459   ', datetime.date(1985, 7, 20), 'M', '511 Aurora Av, Aurora,IL', '400      ', Decimal('60000.00'), '30004    ', '5        '),\n",
       " ('E1005    ', 'Ahmed', 'Hussain', '123410   ', datetime.date(1981, 1, 4), 'M', '216 Oak Tree, Geneva,IL', '500      ', Decimal('70000.00'), '30001    ', '2        '),\n",
       " ('E1006    ', 'Nancy', 'Allen', '123411   ', datetime.date(1978, 2, 6), 'F', '111 Green Pl, Elgin,IL', '600      ', Decimal('90000.00'), '30001    ', '2        '),\n",
       " ('E1007    ', 'Mary', 'Thomas', '123412   ', datetime.date(1975, 5, 5), 'F', '100 Rose Pl, Gary,IL', '650      ', Decimal('65000.00'), '30003    ', '7        '),\n",
       " ('E1008    ', 'Bharath', 'Gupta', '123413   ', datetime.date(1985, 5, 6), 'M', '145 Berry Ln, Naperville,IL', '660      ', Decimal('65000.00'), '30003    ', '7        '),\n",
       " ('E1009    ', 'Andrea', 'Jones', '123414   ', datetime.date(1990, 7, 9), 'F', '120 Fall Creek, Gary,IL', '234      ', Decimal('70000.00'), '30003    ', '7        '),\n",
       " ('E1010    ', 'Ann', 'Jacob', '123415   ', datetime.date(1982, 3, 30), 'F', '111 Britany Springs,Elgin,IL', '220      ', Decimal('70000.00'), '30004    ', '5        ')]"
      ]
     },
     "execution_count": 38,
     "metadata": {},
     "output_type": "execute_result"
    }
   ],
   "source": [
    "%sql SELECT * FROM EMPLOYEES"
   ]
  },
  {
   "cell_type": "code",
   "execution_count": 6,
   "metadata": {},
   "outputs": [],
   "source": [
    "#%sql SELECT f_name, l_name, dep_id FROM EMPLOYEES ORDER BY dep_id DESC, l_name DESC"
   ]
  },
  {
   "cell_type": "code",
   "execution_count": 19,
   "metadata": {},
   "outputs": [],
   "source": [
    "#%sql SELECT dep_id, COUNT(*) FROM EMPLOYEES GROUP BY dep_id"
   ]
  },
  {
   "cell_type": "code",
   "execution_count": 30,
   "metadata": {},
   "outputs": [],
   "source": [
    "#%sql SELECT * FROM EMPLOYEES GROUP BY dep_id"
   ]
  },
  {
   "cell_type": "code",
   "execution_count": 36,
   "metadata": {},
   "outputs": [
    {
     "name": "stdout",
     "output_type": "stream",
     "text": [
      " * ibm_db_sa://mpc82210:***@dashdb-txn-sbox-yp-dal09-10.services.dal.bluemix.net:50000/BLUDB\n",
      "Done.\n"
     ]
    },
    {
     "data": {
      "text/html": [
       "<table>\n",
       "    <tr>\n",
       "        <th>num_emp</th>\n",
       "        <th>avg_salary</th>\n",
       "        <th>dep_id</th>\n",
       "    </tr>\n",
       "    <tr>\n",
       "        <td>3</td>\n",
       "        <td>66666.66666666666666666666666</td>\n",
       "        <td>7        </td>\n",
       "    </tr>\n",
       "    <tr>\n",
       "        <td>3</td>\n",
       "        <td>86666.66666666666666666666666</td>\n",
       "        <td>2        </td>\n",
       "    </tr>\n",
       "</table>"
      ],
      "text/plain": [
       "[(Decimal('3'), Decimal('66666.66666666666666666666666'), '7        '),\n",
       " (Decimal('3'), Decimal('86666.66666666666666666666666'), '2        ')]"
      ]
     },
     "execution_count": 36,
     "metadata": {},
     "output_type": "execute_result"
    }
   ],
   "source": [
    "%sql SELECT COUNT(f_name) AS NUM_EMP, AVG(SALARY) AS AVG_SALARY, DEP_ID FROM EMPLOYEES GROUP BY dep_id HAVING COUNT(f_name)<4 ORDER BY AVG_SALARY"
   ]
  },
  {
   "cell_type": "code",
   "execution_count": 43,
   "metadata": {},
   "outputs": [
    {
     "name": "stdout",
     "output_type": "stream",
     "text": [
      " * ibm_db_sa://mpc82210:***@dashdb-txn-sbox-yp-dal09-10.services.dal.bluemix.net:50000/BLUDB\n",
      "Done.\n"
     ]
    },
    {
     "data": {
      "text/html": [
       "<table>\n",
       "    <tr>\n",
       "        <th>f_name</th>\n",
       "        <th>l_name</th>\n",
       "        <th>dept_id_dep</th>\n",
       "        <th>dep_id</th>\n",
       "        <th>dep_name</th>\n",
       "    </tr>\n",
       "    <tr>\n",
       "        <td>John</td>\n",
       "        <td>Thomas</td>\n",
       "        <td>2        </td>\n",
       "        <td>2        </td>\n",
       "        <td>Architect Group</td>\n",
       "    </tr>\n",
       "    <tr>\n",
       "        <td>Alice</td>\n",
       "        <td>James</td>\n",
       "        <td>5        </td>\n",
       "        <td>5        </td>\n",
       "        <td>Software Group</td>\n",
       "    </tr>\n",
       "    <tr>\n",
       "        <td>Steve</td>\n",
       "        <td>Wells</td>\n",
       "        <td>5        </td>\n",
       "        <td>5        </td>\n",
       "        <td>Software Group</td>\n",
       "    </tr>\n",
       "    <tr>\n",
       "        <td>Santosh</td>\n",
       "        <td>Kumar</td>\n",
       "        <td>5        </td>\n",
       "        <td>5        </td>\n",
       "        <td>Software Group</td>\n",
       "    </tr>\n",
       "    <tr>\n",
       "        <td>Ahmed</td>\n",
       "        <td>Hussain</td>\n",
       "        <td>2        </td>\n",
       "        <td>2        </td>\n",
       "        <td>Architect Group</td>\n",
       "    </tr>\n",
       "    <tr>\n",
       "        <td>Nancy</td>\n",
       "        <td>Allen</td>\n",
       "        <td>2        </td>\n",
       "        <td>2        </td>\n",
       "        <td>Architect Group</td>\n",
       "    </tr>\n",
       "    <tr>\n",
       "        <td>Mary</td>\n",
       "        <td>Thomas</td>\n",
       "        <td>7        </td>\n",
       "        <td>7        </td>\n",
       "        <td>Design Team</td>\n",
       "    </tr>\n",
       "    <tr>\n",
       "        <td>Bharath</td>\n",
       "        <td>Gupta</td>\n",
       "        <td>7        </td>\n",
       "        <td>7        </td>\n",
       "        <td>Design Team</td>\n",
       "    </tr>\n",
       "    <tr>\n",
       "        <td>Andrea</td>\n",
       "        <td>Jones</td>\n",
       "        <td>7        </td>\n",
       "        <td>7        </td>\n",
       "        <td>Design Team</td>\n",
       "    </tr>\n",
       "    <tr>\n",
       "        <td>Ann</td>\n",
       "        <td>Jacob</td>\n",
       "        <td>5        </td>\n",
       "        <td>5        </td>\n",
       "        <td>Software Group</td>\n",
       "    </tr>\n",
       "</table>"
      ],
      "text/plain": [
       "[('John', 'Thomas', '2        ', '2        ', 'Architect Group'),\n",
       " ('Alice', 'James', '5        ', '5        ', 'Software Group'),\n",
       " ('Steve', 'Wells', '5        ', '5        ', 'Software Group'),\n",
       " ('Santosh', 'Kumar', '5        ', '5        ', 'Software Group'),\n",
       " ('Ahmed', 'Hussain', '2        ', '2        ', 'Architect Group'),\n",
       " ('Nancy', 'Allen', '2        ', '2        ', 'Architect Group'),\n",
       " ('Mary', 'Thomas', '7        ', '7        ', 'Design Team'),\n",
       " ('Bharath', 'Gupta', '7        ', '7        ', 'Design Team'),\n",
       " ('Andrea', 'Jones', '7        ', '7        ', 'Design Team'),\n",
       " ('Ann', 'Jacob', '5        ', '5        ', 'Software Group')]"
      ]
     },
     "execution_count": 43,
     "metadata": {},
     "output_type": "execute_result"
    }
   ],
   "source": [
    "%sql  SELECT E.F_NAME, E.L_NAME, D.DEPT_ID_DEP, E.DEP_ID, D.DEP_NAME FROM EMPLOYEES AS E, DEPARTMENTS AS D WHERE E.DEP_ID = D.DEPT_ID_DEP"
   ]
  },
  {
   "cell_type": "code",
   "execution_count": null,
   "metadata": {},
   "outputs": [],
   "source": []
  }
 ],
 "metadata": {
  "kernelspec": {
   "display_name": "Python 3",
   "language": "python",
   "name": "python3"
  },
  "language_info": {
   "codemirror_mode": {
    "name": "ipython",
    "version": 3
   },
   "file_extension": ".py",
   "mimetype": "text/x-python",
   "name": "python",
   "nbconvert_exporter": "python",
   "pygments_lexer": "ipython3",
   "version": "3.8.3"
  }
 },
 "nbformat": 4,
 "nbformat_minor": 4
}
