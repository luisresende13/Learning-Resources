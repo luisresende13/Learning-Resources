{
 "cells": [
  {
   "cell_type": "markdown",
   "metadata": {},
   "source": [
    "## Aggregate, Scalar, String, Date and Time Functions"
   ]
  },
  {
   "cell_type": "code",
   "execution_count": 1,
   "metadata": {},
   "outputs": [],
   "source": [
    "%load_ext sql\n",
    "%sql ibm_db_sa://mpc82210:7rf3d7vvlfj%5Egf7d@dashdb-txn-sbox-yp-dal09-10.services.dal.bluemix.net:50000/BLUDB"
   ]
  },
  {
   "cell_type": "code",
   "execution_count": 3,
   "metadata": {},
   "outputs": [
    {
     "name": "stdout",
     "output_type": "stream",
     "text": [
      " * ibm_db_sa://mpc82210:***@dashdb-txn-sbox-yp-dal09-10.services.dal.bluemix.net:50000/BLUDB\n",
      "Done.\n"
     ]
    },
    {
     "data": {
      "text/html": [
       "<table>\n",
       "    <tr>\n",
       "        <th>id</th>\n",
       "        <th>animal</th>\n",
       "        <th>quantity</th>\n",
       "        <th>cost</th>\n",
       "        <th>rescuedate</th>\n",
       "    </tr>\n",
       "    <tr>\n",
       "        <td>1</td>\n",
       "        <td>Cat</td>\n",
       "        <td>9</td>\n",
       "        <td>450.09</td>\n",
       "        <td>2018-05-29</td>\n",
       "    </tr>\n",
       "    <tr>\n",
       "        <td>2</td>\n",
       "        <td>Dog</td>\n",
       "        <td>3</td>\n",
       "        <td>666.66</td>\n",
       "        <td>2018-06-01</td>\n",
       "    </tr>\n",
       "    <tr>\n",
       "        <td>3</td>\n",
       "        <td>Dog</td>\n",
       "        <td>1</td>\n",
       "        <td>100.00</td>\n",
       "        <td>2018-06-04</td>\n",
       "    </tr>\n",
       "    <tr>\n",
       "        <td>4</td>\n",
       "        <td>Parrot</td>\n",
       "        <td>2</td>\n",
       "        <td>50.00</td>\n",
       "        <td>2018-06-04</td>\n",
       "    </tr>\n",
       "    <tr>\n",
       "        <td>5</td>\n",
       "        <td>Dog</td>\n",
       "        <td>1</td>\n",
       "        <td>75.75</td>\n",
       "        <td>2018-06-10</td>\n",
       "    </tr>\n",
       "    <tr>\n",
       "        <td>6</td>\n",
       "        <td>Hamster</td>\n",
       "        <td>6</td>\n",
       "        <td>60.60</td>\n",
       "        <td>2018-06-11</td>\n",
       "    </tr>\n",
       "    <tr>\n",
       "        <td>7</td>\n",
       "        <td>Cat</td>\n",
       "        <td>1</td>\n",
       "        <td>44.44</td>\n",
       "        <td>2018-06-11</td>\n",
       "    </tr>\n",
       "    <tr>\n",
       "        <td>8</td>\n",
       "        <td>Goldfish</td>\n",
       "        <td>24</td>\n",
       "        <td>48.48</td>\n",
       "        <td>2018-06-14</td>\n",
       "    </tr>\n",
       "    <tr>\n",
       "        <td>9</td>\n",
       "        <td>Dog</td>\n",
       "        <td>2</td>\n",
       "        <td>222.22</td>\n",
       "        <td>2018-06-15</td>\n",
       "    </tr>\n",
       "</table>"
      ],
      "text/plain": [
       "[(1, 'Cat', 9, Decimal('450.09'), datetime.date(2018, 5, 29)),\n",
       " (2, 'Dog', 3, Decimal('666.66'), datetime.date(2018, 6, 1)),\n",
       " (3, 'Dog', 1, Decimal('100.00'), datetime.date(2018, 6, 4)),\n",
       " (4, 'Parrot', 2, Decimal('50.00'), datetime.date(2018, 6, 4)),\n",
       " (5, 'Dog', 1, Decimal('75.75'), datetime.date(2018, 6, 10)),\n",
       " (6, 'Hamster', 6, Decimal('60.60'), datetime.date(2018, 6, 11)),\n",
       " (7, 'Cat', 1, Decimal('44.44'), datetime.date(2018, 6, 11)),\n",
       " (8, 'Goldfish', 24, Decimal('48.48'), datetime.date(2018, 6, 14)),\n",
       " (9, 'Dog', 2, Decimal('222.22'), datetime.date(2018, 6, 15))]"
      ]
     },
     "execution_count": 3,
     "metadata": {},
     "output_type": "execute_result"
    }
   ],
   "source": [
    "%sql SELECT * FROM PETRESCUE"
   ]
  },
  {
   "cell_type": "markdown",
   "metadata": {},
   "source": [
    "#### Aggregate Functions"
   ]
  },
  {
   "cell_type": "code",
   "execution_count": 4,
   "metadata": {},
   "outputs": [
    {
     "name": "stdout",
     "output_type": "stream",
     "text": [
      " * ibm_db_sa://mpc82210:***@dashdb-txn-sbox-yp-dal09-10.services.dal.bluemix.net:50000/BLUDB\n",
      "Done.\n"
     ]
    },
    {
     "data": {
      "text/html": [
       "<table>\n",
       "    <tr>\n",
       "        <th>sum_of_cost</th>\n",
       "    </tr>\n",
       "    <tr>\n",
       "        <td>1718.24</td>\n",
       "    </tr>\n",
       "</table>"
      ],
      "text/plain": [
       "[(Decimal('1718.24'),)]"
      ]
     },
     "execution_count": 4,
     "metadata": {},
     "output_type": "execute_result"
    }
   ],
   "source": [
    "%sql SELECT SUM(COST) AS SUM_OF_COST FROM PETRESCUE"
   ]
  },
  {
   "cell_type": "code",
   "execution_count": 15,
   "metadata": {},
   "outputs": [
    {
     "name": "stdout",
     "output_type": "stream",
     "text": [
      " * ibm_db_sa://mpc82210:***@dashdb-txn-sbox-yp-dal09-10.services.dal.bluemix.net:50000/BLUDB\n",
      "Done.\n"
     ]
    },
    {
     "data": {
      "text/html": [
       "<table>\n",
       "    <tr>\n",
       "        <th>1</th>\n",
       "    </tr>\n",
       "    <tr>\n",
       "        <td>24</td>\n",
       "    </tr>\n",
       "</table>"
      ],
      "text/plain": [
       "[(24,)]"
      ]
     },
     "execution_count": 15,
     "metadata": {},
     "output_type": "execute_result"
    }
   ],
   "source": [
    "%sql SELECT MAX(QUANTITY) FROM PETRESCUE"
   ]
  },
  {
   "cell_type": "code",
   "execution_count": 16,
   "metadata": {},
   "outputs": [
    {
     "name": "stdout",
     "output_type": "stream",
     "text": [
      " * ibm_db_sa://mpc82210:***@dashdb-txn-sbox-yp-dal09-10.services.dal.bluemix.net:50000/BLUDB\n",
      "Done.\n"
     ]
    },
    {
     "data": {
      "text/html": [
       "<table>\n",
       "    <tr>\n",
       "        <th>1</th>\n",
       "    </tr>\n",
       "    <tr>\n",
       "        <td>190.915555555555555555555555555</td>\n",
       "    </tr>\n",
       "</table>"
      ],
      "text/plain": [
       "[(Decimal('190.915555555555555555555555555'),)]"
      ]
     },
     "execution_count": 16,
     "metadata": {},
     "output_type": "execute_result"
    }
   ],
   "source": [
    "%sql SELECT AVG(COST) FROM PETRESCUE"
   ]
  },
  {
   "cell_type": "code",
   "execution_count": 20,
   "metadata": {},
   "outputs": [
    {
     "name": "stdout",
     "output_type": "stream",
     "text": [
      " * ibm_db_sa://mpc82210:***@dashdb-txn-sbox-yp-dal09-10.services.dal.bluemix.net:50000/BLUDB\n",
      "Done.\n"
     ]
    },
    {
     "data": {
      "text/html": [
       "<table>\n",
       "    <tr>\n",
       "        <th>1</th>\n",
       "    </tr>\n",
       "    <tr>\n",
       "        <td>127.270000000000000000000000000</td>\n",
       "    </tr>\n",
       "</table>"
      ],
      "text/plain": [
       "[(Decimal('127.270000000000000000000000000'),)]"
      ]
     },
     "execution_count": 20,
     "metadata": {},
     "output_type": "execute_result"
    }
   ],
   "source": [
    "%sql SELECT AVG(COST/QUANTITY) FROM PETRESCUE WHERE ANIMAL = 'Dog'"
   ]
  },
  {
   "cell_type": "markdown",
   "metadata": {},
   "source": [
    "#### Scalar and Tring Functions"
   ]
  },
  {
   "cell_type": "code",
   "execution_count": 21,
   "metadata": {},
   "outputs": [
    {
     "name": "stdout",
     "output_type": "stream",
     "text": [
      " * ibm_db_sa://mpc82210:***@dashdb-txn-sbox-yp-dal09-10.services.dal.bluemix.net:50000/BLUDB\n",
      "Done.\n"
     ]
    },
    {
     "data": {
      "text/html": [
       "<table>\n",
       "    <tr>\n",
       "        <th>1</th>\n",
       "    </tr>\n",
       "    <tr>\n",
       "        <td>450.00</td>\n",
       "    </tr>\n",
       "    <tr>\n",
       "        <td>667.00</td>\n",
       "    </tr>\n",
       "    <tr>\n",
       "        <td>100.00</td>\n",
       "    </tr>\n",
       "    <tr>\n",
       "        <td>50.00</td>\n",
       "    </tr>\n",
       "    <tr>\n",
       "        <td>76.00</td>\n",
       "    </tr>\n",
       "    <tr>\n",
       "        <td>61.00</td>\n",
       "    </tr>\n",
       "    <tr>\n",
       "        <td>44.00</td>\n",
       "    </tr>\n",
       "    <tr>\n",
       "        <td>48.00</td>\n",
       "    </tr>\n",
       "    <tr>\n",
       "        <td>222.00</td>\n",
       "    </tr>\n",
       "</table>"
      ],
      "text/plain": [
       "[(Decimal('450.00'),),\n",
       " (Decimal('667.00'),),\n",
       " (Decimal('100.00'),),\n",
       " (Decimal('50.00'),),\n",
       " (Decimal('76.00'),),\n",
       " (Decimal('61.00'),),\n",
       " (Decimal('44.00'),),\n",
       " (Decimal('48.00'),),\n",
       " (Decimal('222.00'),)]"
      ]
     },
     "execution_count": 21,
     "metadata": {},
     "output_type": "execute_result"
    }
   ],
   "source": [
    "%sql SELECT ROUND(COST) FROM PETRESCUE"
   ]
  },
  {
   "cell_type": "code",
   "execution_count": 22,
   "metadata": {},
   "outputs": [
    {
     "name": "stdout",
     "output_type": "stream",
     "text": [
      " * ibm_db_sa://mpc82210:***@dashdb-txn-sbox-yp-dal09-10.services.dal.bluemix.net:50000/BLUDB\n",
      "Done.\n"
     ]
    },
    {
     "data": {
      "text/html": [
       "<table>\n",
       "    <tr>\n",
       "        <th>1</th>\n",
       "    </tr>\n",
       "    <tr>\n",
       "        <td>3</td>\n",
       "    </tr>\n",
       "    <tr>\n",
       "        <td>3</td>\n",
       "    </tr>\n",
       "    <tr>\n",
       "        <td>3</td>\n",
       "    </tr>\n",
       "    <tr>\n",
       "        <td>6</td>\n",
       "    </tr>\n",
       "    <tr>\n",
       "        <td>3</td>\n",
       "    </tr>\n",
       "    <tr>\n",
       "        <td>7</td>\n",
       "    </tr>\n",
       "    <tr>\n",
       "        <td>3</td>\n",
       "    </tr>\n",
       "    <tr>\n",
       "        <td>8</td>\n",
       "    </tr>\n",
       "    <tr>\n",
       "        <td>3</td>\n",
       "    </tr>\n",
       "</table>"
      ],
      "text/plain": [
       "[(3,), (3,), (3,), (6,), (3,), (7,), (3,), (8,), (3,)]"
      ]
     },
     "execution_count": 22,
     "metadata": {},
     "output_type": "execute_result"
    }
   ],
   "source": [
    "%sql SELECT LENGTH(ANIMAL) FROM PETRESCUE"
   ]
  },
  {
   "cell_type": "code",
   "execution_count": 23,
   "metadata": {},
   "outputs": [
    {
     "name": "stdout",
     "output_type": "stream",
     "text": [
      " * ibm_db_sa://mpc82210:***@dashdb-txn-sbox-yp-dal09-10.services.dal.bluemix.net:50000/BLUDB\n",
      "Done.\n"
     ]
    },
    {
     "data": {
      "text/html": [
       "<table>\n",
       "    <tr>\n",
       "        <th>1</th>\n",
       "    </tr>\n",
       "    <tr>\n",
       "        <td>CAT</td>\n",
       "    </tr>\n",
       "    <tr>\n",
       "        <td>DOG</td>\n",
       "    </tr>\n",
       "    <tr>\n",
       "        <td>DOG</td>\n",
       "    </tr>\n",
       "    <tr>\n",
       "        <td>PARROT</td>\n",
       "    </tr>\n",
       "    <tr>\n",
       "        <td>DOG</td>\n",
       "    </tr>\n",
       "    <tr>\n",
       "        <td>HAMSTER</td>\n",
       "    </tr>\n",
       "    <tr>\n",
       "        <td>CAT</td>\n",
       "    </tr>\n",
       "    <tr>\n",
       "        <td>GOLDFISH</td>\n",
       "    </tr>\n",
       "    <tr>\n",
       "        <td>DOG</td>\n",
       "    </tr>\n",
       "</table>"
      ],
      "text/plain": [
       "[('CAT',),\n",
       " ('DOG',),\n",
       " ('DOG',),\n",
       " ('PARROT',),\n",
       " ('DOG',),\n",
       " ('HAMSTER',),\n",
       " ('CAT',),\n",
       " ('GOLDFISH',),\n",
       " ('DOG',)]"
      ]
     },
     "execution_count": 23,
     "metadata": {},
     "output_type": "execute_result"
    }
   ],
   "source": [
    "%sql SELECT UCASE(ANIMAL) FROM PETRESCUE"
   ]
  },
  {
   "cell_type": "code",
   "execution_count": 25,
   "metadata": {},
   "outputs": [
    {
     "name": "stdout",
     "output_type": "stream",
     "text": [
      " * ibm_db_sa://mpc82210:***@dashdb-txn-sbox-yp-dal09-10.services.dal.bluemix.net:50000/BLUDB\n",
      "Done.\n"
     ]
    },
    {
     "data": {
      "text/html": [
       "<table>\n",
       "    <tr>\n",
       "        <th>1</th>\n",
       "    </tr>\n",
       "    <tr>\n",
       "        <td>CAT</td>\n",
       "    </tr>\n",
       "    <tr>\n",
       "        <td>DOG</td>\n",
       "    </tr>\n",
       "    <tr>\n",
       "        <td>GOLDFISH</td>\n",
       "    </tr>\n",
       "    <tr>\n",
       "        <td>HAMSTER</td>\n",
       "    </tr>\n",
       "    <tr>\n",
       "        <td>PARROT</td>\n",
       "    </tr>\n",
       "</table>"
      ],
      "text/plain": [
       "[('CAT',), ('DOG',), ('GOLDFISH',), ('HAMSTER',), ('PARROT',)]"
      ]
     },
     "execution_count": 25,
     "metadata": {},
     "output_type": "execute_result"
    }
   ],
   "source": [
    "%sql SELECT DISTINCT(UCASE(ANIMAL)) FROM PETRESCUE"
   ]
  },
  {
   "cell_type": "code",
   "execution_count": 29,
   "metadata": {},
   "outputs": [
    {
     "name": "stdout",
     "output_type": "stream",
     "text": [
      " * ibm_db_sa://mpc82210:***@dashdb-txn-sbox-yp-dal09-10.services.dal.bluemix.net:50000/BLUDB\n",
      "Done.\n"
     ]
    },
    {
     "data": {
      "text/html": [
       "<table>\n",
       "    <tr>\n",
       "        <th>id</th>\n",
       "        <th>animal</th>\n",
       "        <th>quantity</th>\n",
       "        <th>cost</th>\n",
       "        <th>rescuedate</th>\n",
       "    </tr>\n",
       "    <tr>\n",
       "        <td>1</td>\n",
       "        <td>Cat</td>\n",
       "        <td>9</td>\n",
       "        <td>450.09</td>\n",
       "        <td>2018-05-29</td>\n",
       "    </tr>\n",
       "    <tr>\n",
       "        <td>7</td>\n",
       "        <td>Cat</td>\n",
       "        <td>1</td>\n",
       "        <td>44.44</td>\n",
       "        <td>2018-06-11</td>\n",
       "    </tr>\n",
       "</table>"
      ],
      "text/plain": [
       "[(1, 'Cat', 9, Decimal('450.09'), datetime.date(2018, 5, 29)),\n",
       " (7, 'Cat', 1, Decimal('44.44'), datetime.date(2018, 6, 11))]"
      ]
     },
     "execution_count": 29,
     "metadata": {},
     "output_type": "execute_result"
    }
   ],
   "source": [
    "%sql SELECT * FROM PETRESCUE WHERE LCASE(ANIMAL) = 'cat'"
   ]
  },
  {
   "cell_type": "markdown",
   "metadata": {},
   "source": [
    "#### Date and Time Functions"
   ]
  },
  {
   "cell_type": "code",
   "execution_count": 30,
   "metadata": {},
   "outputs": [
    {
     "name": "stdout",
     "output_type": "stream",
     "text": [
      " * ibm_db_sa://mpc82210:***@dashdb-txn-sbox-yp-dal09-10.services.dal.bluemix.net:50000/BLUDB\n",
      "Done.\n"
     ]
    },
    {
     "data": {
      "text/html": [
       "<table>\n",
       "    <tr>\n",
       "        <th>1</th>\n",
       "    </tr>\n",
       "    <tr>\n",
       "        <td>29</td>\n",
       "    </tr>\n",
       "    <tr>\n",
       "        <td>11</td>\n",
       "    </tr>\n",
       "</table>"
      ],
      "text/plain": [
       "[(29,), (11,)]"
      ]
     },
     "execution_count": 30,
     "metadata": {},
     "output_type": "execute_result"
    }
   ],
   "source": [
    "%sql SELECT DAY(RESCUEDATE) FROM PETRESCUE WHERE ANIMAL = 'Cat'"
   ]
  },
  {
   "cell_type": "code",
   "execution_count": 34,
   "metadata": {},
   "outputs": [
    {
     "name": "stdout",
     "output_type": "stream",
     "text": [
      " * ibm_db_sa://mpc82210:***@dashdb-txn-sbox-yp-dal09-10.services.dal.bluemix.net:50000/BLUDB\n",
      "Done.\n"
     ]
    },
    {
     "data": {
      "text/html": [
       "<table>\n",
       "    <tr>\n",
       "        <th>rescue_count</th>\n",
       "    </tr>\n",
       "    <tr>\n",
       "        <td>1</td>\n",
       "    </tr>\n",
       "</table>"
      ],
      "text/plain": [
       "[(Decimal('1'),)]"
      ]
     },
     "execution_count": 34,
     "metadata": {},
     "output_type": "execute_result"
    }
   ],
   "source": [
    "%sql SELECT COUNT(*) AS RESCUE_COUNT FROM PETRESCUE WHERE MONTH(RESCUEDATE) = '05'"
   ]
  },
  {
   "cell_type": "code",
   "execution_count": 35,
   "metadata": {},
   "outputs": [
    {
     "name": "stdout",
     "output_type": "stream",
     "text": [
      " * ibm_db_sa://mpc82210:***@dashdb-txn-sbox-yp-dal09-10.services.dal.bluemix.net:50000/BLUDB\n",
      "Done.\n"
     ]
    },
    {
     "data": {
      "text/html": [
       "<table>\n",
       "    <tr>\n",
       "        <th>1</th>\n",
       "    </tr>\n",
       "    <tr>\n",
       "        <td>2018-06-01</td>\n",
       "    </tr>\n",
       "    <tr>\n",
       "        <td>2018-06-04</td>\n",
       "    </tr>\n",
       "    <tr>\n",
       "        <td>2018-06-07</td>\n",
       "    </tr>\n",
       "    <tr>\n",
       "        <td>2018-06-07</td>\n",
       "    </tr>\n",
       "    <tr>\n",
       "        <td>2018-06-13</td>\n",
       "    </tr>\n",
       "    <tr>\n",
       "        <td>2018-06-14</td>\n",
       "    </tr>\n",
       "    <tr>\n",
       "        <td>2018-06-14</td>\n",
       "    </tr>\n",
       "    <tr>\n",
       "        <td>2018-06-17</td>\n",
       "    </tr>\n",
       "    <tr>\n",
       "        <td>2018-06-18</td>\n",
       "    </tr>\n",
       "</table>"
      ],
      "text/plain": [
       "[(datetime.date(2018, 6, 1),),\n",
       " (datetime.date(2018, 6, 4),),\n",
       " (datetime.date(2018, 6, 7),),\n",
       " (datetime.date(2018, 6, 7),),\n",
       " (datetime.date(2018, 6, 13),),\n",
       " (datetime.date(2018, 6, 14),),\n",
       " (datetime.date(2018, 6, 14),),\n",
       " (datetime.date(2018, 6, 17),),\n",
       " (datetime.date(2018, 6, 18),)]"
      ]
     },
     "execution_count": 35,
     "metadata": {},
     "output_type": "execute_result"
    }
   ],
   "source": [
    "%sql SELECT (RESCUEDATE + 3 DAYS) FROM PETRESCUE"
   ]
  },
  {
   "cell_type": "code",
   "execution_count": 36,
   "metadata": {},
   "outputs": [
    {
     "name": "stdout",
     "output_type": "stream",
     "text": [
      " * ibm_db_sa://mpc82210:***@dashdb-txn-sbox-yp-dal09-10.services.dal.bluemix.net:50000/BLUDB\n",
      "Done.\n"
     ]
    },
    {
     "data": {
      "text/html": [
       "<table>\n",
       "    <tr>\n",
       "        <th>how_long</th>\n",
       "    </tr>\n",
       "    <tr>\n",
       "        <td>20521</td>\n",
       "    </tr>\n",
       "    <tr>\n",
       "        <td>20518</td>\n",
       "    </tr>\n",
       "    <tr>\n",
       "        <td>20515</td>\n",
       "    </tr>\n",
       "    <tr>\n",
       "        <td>20515</td>\n",
       "    </tr>\n",
       "    <tr>\n",
       "        <td>20509</td>\n",
       "    </tr>\n",
       "    <tr>\n",
       "        <td>20508</td>\n",
       "    </tr>\n",
       "    <tr>\n",
       "        <td>20508</td>\n",
       "    </tr>\n",
       "    <tr>\n",
       "        <td>20505</td>\n",
       "    </tr>\n",
       "    <tr>\n",
       "        <td>20504</td>\n",
       "    </tr>\n",
       "</table>"
      ],
      "text/plain": [
       "[(Decimal('20521'),),\n",
       " (Decimal('20518'),),\n",
       " (Decimal('20515'),),\n",
       " (Decimal('20515'),),\n",
       " (Decimal('20509'),),\n",
       " (Decimal('20508'),),\n",
       " (Decimal('20508'),),\n",
       " (Decimal('20505'),),\n",
       " (Decimal('20504'),)]"
      ]
     },
     "execution_count": 36,
     "metadata": {},
     "output_type": "execute_result"
    }
   ],
   "source": [
    "%sql SELECT (CURRENT_DATE - RESCUEDATE) AS HOW_LONG FROM PETRESCUE"
   ]
  },
  {
   "cell_type": "code",
   "execution_count": null,
   "metadata": {},
   "outputs": [],
   "source": []
  }
 ],
 "metadata": {
  "kernelspec": {
   "display_name": "Python 3",
   "language": "python",
   "name": "python3"
  },
  "language_info": {
   "codemirror_mode": {
    "name": "ipython",
    "version": 3
   },
   "file_extension": ".py",
   "mimetype": "text/x-python",
   "name": "python",
   "nbconvert_exporter": "python",
   "pygments_lexer": "ipython3",
   "version": "3.8.3"
  }
 },
 "nbformat": 4,
 "nbformat_minor": 4
}
