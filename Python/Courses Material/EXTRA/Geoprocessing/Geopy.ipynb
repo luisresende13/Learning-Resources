{
 "cells": [
  {
   "cell_type": "code",
   "execution_count": 2,
   "metadata": {},
   "outputs": [],
   "source": [
    "from geopy.geocoders import Nominatim\n",
    "import time\n",
    "from pprint import pprint"
   ]
  },
  {
   "cell_type": "code",
   "execution_count": 3,
   "metadata": {},
   "outputs": [],
   "source": [
    "app = Nominatim(user_agent='Brasil Schools')"
   ]
  },
  {
   "cell_type": "code",
   "execution_count": 4,
   "metadata": {},
   "outputs": [],
   "source": [
    "location = app.geocode('Escolas, Rio Branco').raw"
   ]
  },
  {
   "cell_type": "code",
   "execution_count": 5,
   "metadata": {},
   "outputs": [
    {
     "data": {
      "text/plain": [
       "{'place_id': 7717587,\n",
       " 'licence': 'Data © OpenStreetMap contributors, ODbL 1.0. https://osm.org/copyright',\n",
       " 'osm_type': 'node',\n",
       " 'osm_id': 859537424,\n",
       " 'boundingbox': ['-25.0982871', '-25.0981871', '-50.1389169', '-50.1388169'],\n",
       " 'lat': '-25.0982371',\n",
       " 'lon': '-50.1388669',\n",
       " 'display_name': 'Escola Municipal Professora Kazuko Inoue, 650, Rua Bituruna, Uvaranas, Ponta Grossa, Região Geográfica Imediata de Ponta Grossa, Região Geográfica Intermediária de Ponta Grossa, Paraná, Região Sul, 84025490, Brasil',\n",
       " 'class': 'amenity',\n",
       " 'type': 'school',\n",
       " 'importance': 0.001,\n",
       " 'icon': 'https://nominatim.openstreetmap.org/ui/mapicons//education_school.p.20.png'}"
      ]
     },
     "execution_count": 5,
     "metadata": {},
     "output_type": "execute_result"
    }
   ],
   "source": [
    "location = "
   ]
  },
  {
   "cell_type": "code",
   "execution_count": null,
   "metadata": {},
   "outputs": [],
   "source": [
    "lats = []\n",
    "lngs = []\n",
    "\n",
    "appd_count = 0\n",
    "nan_count = 0\n",
    "fail_list = []\n",
    "\n",
    "for address in ams_esc['addr_search'][:50]:\n",
    "\n",
    "    try:\n",
    "        location = geolocator.geocode(address)\n",
    "        lats.append(location.latitude)\n",
    "        lngs.append(location.longitude)\n",
    "        appd_count += 1\n",
    "    except: \n",
    "        try:\n",
    "            location = geolocator.geocode(address)\n",
    "            lats.append(location.latitude)\n",
    "            lngs.append(location.longitude)\n",
    "            appd_count += 1\n",
    "        except:\n",
    "            try:\n",
    "                location = geolocator.geocode(address)\n",
    "                lats.append(location.latitude)\n",
    "                lngs.append(location.longitude)\n",
    "                appd_count += 1\n",
    "            except: \n",
    "                lats.append(numpy.nan)\n",
    "                lngs.append(numpy.nan)\n",
    "                nan_count += 1\n",
    "                fail_list.append(address)\n",
    "\n",
    "    print('Appended: {}, Fail: {}'.format(len(lats), nan_count))\n",
    "print('Completed')"
   ]
  },
  {
   "cell_type": "code",
   "execution_count": null,
   "metadata": {},
   "outputs": [],
   "source": [
    " g = geocoder.google('{}, {}, {}'.format(name.lower(), mun.lower(), uf))\n",
    "            lat_lng_coords = g.latlng\n",
    "            lats.append(lat_lng_coords[0])\n",
    "            lngs.append(lat_lng_coords[1])"
   ]
  }
 ],
 "metadata": {
  "kernelspec": {
   "display_name": "Python 3",
   "language": "python",
   "name": "python3"
  },
  "language_info": {
   "codemirror_mode": {
    "name": "ipython",
    "version": 3
   },
   "file_extension": ".py",
   "mimetype": "text/x-python",
   "name": "python",
   "nbconvert_exporter": "python",
   "pygments_lexer": "ipython3",
   "version": "3.8.3"
  }
 },
 "nbformat": 4,
 "nbformat_minor": 4
}
